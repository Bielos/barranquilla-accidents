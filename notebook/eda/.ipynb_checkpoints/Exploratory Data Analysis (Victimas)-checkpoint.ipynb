{
 "cells": [
  {
   "cell_type": "markdown",
   "metadata": {},
   "source": [
    "# Análsis Introductorio de Datos: Búsqueda de Patrones en Víctimas\n",
    "Objetivos:\n",
    "* Encontrar los patrones generales relacionados con las víctimas involucradas en accidentes de tránsito en la ciudad de Barranquilla desde 2015 hasta 2018.\n",
    "\n",
    "## Lectura de los Datos para Análisis"
   ]
  },
  {
   "cell_type": "code",
   "execution_count": 4,
   "metadata": {},
   "outputs": [
    {
     "data": {
      "text/html": [
       "<div>\n",
       "<style scoped>\n",
       "    .dataframe tbody tr th:only-of-type {\n",
       "        vertical-align: middle;\n",
       "    }\n",
       "\n",
       "    .dataframe tbody tr th {\n",
       "        vertical-align: top;\n",
       "    }\n",
       "\n",
       "    .dataframe thead th {\n",
       "        text-align: right;\n",
       "    }\n",
       "</style>\n",
       "<table border=\"1\" class=\"dataframe\">\n",
       "  <thead>\n",
       "    <tr style=\"text-align: right;\">\n",
       "      <th></th>\n",
       "      <th>AÑO_ACCIDENTE</th>\n",
       "      <th>MES_ACCIDENTE</th>\n",
       "      <th>CONDICION_VICTIMA</th>\n",
       "      <th>GRAVEDAD_ACCIDENTE</th>\n",
       "      <th>CLASE_ACCIDENTE</th>\n",
       "      <th>SERVICIO_VEHICULO_VICTIMA</th>\n",
       "      <th>CLASE_VEHICULO_VICTIMA</th>\n",
       "      <th>SEXO_VICTIMA</th>\n",
       "      <th>EDAD_VICTIMA</th>\n",
       "      <th>CANTIDAD_VICTIMAS</th>\n",
       "    </tr>\n",
       "  </thead>\n",
       "  <tbody>\n",
       "    <tr>\n",
       "      <th>0</th>\n",
       "      <td>2018</td>\n",
       "      <td>Marzo</td>\n",
       "      <td>Pasajero</td>\n",
       "      <td>herido</td>\n",
       "      <td>Choque</td>\n",
       "      <td>PUBLICO</td>\n",
       "      <td>BUSETA</td>\n",
       "      <td>M</td>\n",
       "      <td>1.0</td>\n",
       "      <td>1</td>\n",
       "    </tr>\n",
       "    <tr>\n",
       "      <th>1</th>\n",
       "      <td>2018</td>\n",
       "      <td>Junio</td>\n",
       "      <td>Pasajero</td>\n",
       "      <td>herido</td>\n",
       "      <td>Choque</td>\n",
       "      <td>PUBLICO</td>\n",
       "      <td>AUTOMOVIL</td>\n",
       "      <td>F</td>\n",
       "      <td>1.0</td>\n",
       "      <td>1</td>\n",
       "    </tr>\n",
       "    <tr>\n",
       "      <th>2</th>\n",
       "      <td>2018</td>\n",
       "      <td>Marzo</td>\n",
       "      <td>Acompañante</td>\n",
       "      <td>herido</td>\n",
       "      <td>Choque</td>\n",
       "      <td>PARTICULAR</td>\n",
       "      <td>MOTOCICLETA</td>\n",
       "      <td>M</td>\n",
       "      <td>10.0</td>\n",
       "      <td>1</td>\n",
       "    </tr>\n",
       "    <tr>\n",
       "      <th>3</th>\n",
       "      <td>2018</td>\n",
       "      <td>Abril</td>\n",
       "      <td>Acompañante</td>\n",
       "      <td>herido</td>\n",
       "      <td>Choque</td>\n",
       "      <td>PARTICULAR</td>\n",
       "      <td>AUTOMOVIL</td>\n",
       "      <td>M</td>\n",
       "      <td>10.0</td>\n",
       "      <td>1</td>\n",
       "    </tr>\n",
       "    <tr>\n",
       "      <th>4</th>\n",
       "      <td>2018</td>\n",
       "      <td>Mayo</td>\n",
       "      <td>Acompañante</td>\n",
       "      <td>herido</td>\n",
       "      <td>Choque</td>\n",
       "      <td>PARTICULAR</td>\n",
       "      <td>MOTOCICLETA</td>\n",
       "      <td>M</td>\n",
       "      <td>10.0</td>\n",
       "      <td>1</td>\n",
       "    </tr>\n",
       "    <tr>\n",
       "      <th>5</th>\n",
       "      <td>2018</td>\n",
       "      <td>Junio</td>\n",
       "      <td>Pasajero</td>\n",
       "      <td>herido</td>\n",
       "      <td>Choque</td>\n",
       "      <td>PUBLICO</td>\n",
       "      <td>BUSETA</td>\n",
       "      <td>M</td>\n",
       "      <td>10.0</td>\n",
       "      <td>1</td>\n",
       "    </tr>\n",
       "    <tr>\n",
       "      <th>6</th>\n",
       "      <td>2018</td>\n",
       "      <td>Enero</td>\n",
       "      <td>Peaton</td>\n",
       "      <td>herido</td>\n",
       "      <td>Atropello</td>\n",
       "      <td>PARTICULAR</td>\n",
       "      <td>MOTOCICLETA</td>\n",
       "      <td>M</td>\n",
       "      <td>11.0</td>\n",
       "      <td>1</td>\n",
       "    </tr>\n",
       "    <tr>\n",
       "      <th>7</th>\n",
       "      <td>2018</td>\n",
       "      <td>Junio</td>\n",
       "      <td>Ciclista</td>\n",
       "      <td>herido</td>\n",
       "      <td>Choque</td>\n",
       "      <td>OTROS</td>\n",
       "      <td>BICICLETA</td>\n",
       "      <td>M</td>\n",
       "      <td>11.0</td>\n",
       "      <td>1</td>\n",
       "    </tr>\n",
       "    <tr>\n",
       "      <th>8</th>\n",
       "      <td>2018</td>\n",
       "      <td>Febrero</td>\n",
       "      <td>Motociclista</td>\n",
       "      <td>herido</td>\n",
       "      <td>Choque</td>\n",
       "      <td>PARTICULAR</td>\n",
       "      <td>MOTOCICLETA</td>\n",
       "      <td>M</td>\n",
       "      <td>12.0</td>\n",
       "      <td>1</td>\n",
       "    </tr>\n",
       "    <tr>\n",
       "      <th>9</th>\n",
       "      <td>2018</td>\n",
       "      <td>Febrero</td>\n",
       "      <td>Peaton</td>\n",
       "      <td>herido</td>\n",
       "      <td>Atropello</td>\n",
       "      <td>PARTICULAR</td>\n",
       "      <td>MOTOCICLETA</td>\n",
       "      <td>M</td>\n",
       "      <td>12.0</td>\n",
       "      <td>1</td>\n",
       "    </tr>\n",
       "  </tbody>\n",
       "</table>\n",
       "</div>"
      ],
      "text/plain": [
       "   AÑO_ACCIDENTE MES_ACCIDENTE CONDICION_VICTIMA GRAVEDAD_ACCIDENTE  \\\n",
       "0           2018         Marzo          Pasajero             herido   \n",
       "1           2018         Junio          Pasajero             herido   \n",
       "2           2018         Marzo       Acompañante             herido   \n",
       "3           2018         Abril       Acompañante             herido   \n",
       "4           2018          Mayo       Acompañante             herido   \n",
       "5           2018         Junio          Pasajero             herido   \n",
       "6           2018         Enero            Peaton             herido   \n",
       "7           2018         Junio          Ciclista             herido   \n",
       "8           2018       Febrero      Motociclista             herido   \n",
       "9           2018       Febrero            Peaton             herido   \n",
       "\n",
       "  CLASE_ACCIDENTE SERVICIO_VEHICULO_VICTIMA CLASE_VEHICULO_VICTIMA  \\\n",
       "0          Choque                   PUBLICO                 BUSETA   \n",
       "1          Choque                   PUBLICO              AUTOMOVIL   \n",
       "2          Choque                PARTICULAR            MOTOCICLETA   \n",
       "3          Choque                PARTICULAR              AUTOMOVIL   \n",
       "4          Choque                PARTICULAR            MOTOCICLETA   \n",
       "5          Choque                   PUBLICO                 BUSETA   \n",
       "6       Atropello                PARTICULAR            MOTOCICLETA   \n",
       "7          Choque                     OTROS              BICICLETA   \n",
       "8          Choque                PARTICULAR            MOTOCICLETA   \n",
       "9       Atropello                PARTICULAR            MOTOCICLETA   \n",
       "\n",
       "  SEXO_VICTIMA  EDAD_VICTIMA  CANTIDAD_VICTIMAS  \n",
       "0            M           1.0                  1  \n",
       "1            F           1.0                  1  \n",
       "2            M          10.0                  1  \n",
       "3            M          10.0                  1  \n",
       "4            M          10.0                  1  \n",
       "5            M          10.0                  1  \n",
       "6            M          11.0                  1  \n",
       "7            M          11.0                  1  \n",
       "8            M          12.0                  1  \n",
       "9            M          12.0                  1  "
      ]
     },
     "execution_count": 4,
     "metadata": {},
     "output_type": "execute_result"
    }
   ],
   "source": [
    "import numpy as np\n",
    "import pandas as pd\n",
    "import matplotlib.pyplot as plt\n",
    "import seaborn as sns\n",
    "\n",
    "victimas_df = pd.read_csv('../../data/processed/Victimas_clean.csv')\n",
    "victimas_df.head(10)"
   ]
  },
  {
   "cell_type": "markdown",
   "metadata": {},
   "source": [
    "## Principales Datos a Encontrar\n",
    "Los patrones buscados para las víctimas tienen que ver con su edad, su sexo, la condición y la gravedad de la víctima. En especial se pretende dar respuesta a las siguientes preguntas (limitadas al periodo de 2015 a 2018):\n",
    "\n",
    "* ¿Cuál es la edad promedio de las víctimas de accidentes de tránsito en la ciudad de Barranquilla?\n",
    "* ¿Cuál es el género que más se ve involucrado en accidentes de tránsito en la ciudad de Barranquilla?\n",
    "\n",
    "En este notebook se llevarán a cabo las gráficas y cálculos con Python para obtener estadísticas descriptivas a partir de los datos."
   ]
  },
  {
   "cell_type": "markdown",
   "metadata": {},
   "source": [
    "### Edad de las víctimas\n",
    "Utilizando la librería Seaborn se visualiza la distribución de las edades de las víctimas de los accidentes."
   ]
  },
  {
   "cell_type": "code",
   "execution_count": 6,
   "metadata": {},
   "outputs": [
    {
     "data": {
      "image/png": "[encoded data removed]",
      "text/plain": [
       "<Figure size 432x288 with 1 Axes>"
      ]
     },
     "metadata": {
      "needs_background": "light"
     },
     "output_type": "display_data"
    }
   ],
   "source": [
    "ages = victimas_df['EDAD_VICTIMA']\n",
    "fig = plt.figure()\n",
    "ax = fig.add_subplot(1,1,1)\n",
    "sns.distplot(ages.values, ax=ax)\n",
    "ax.set(title='Distribución de Edades de las Víctimas (2015 - 2018)', ylabel='Densidad Gaussiana')\n",
    "plt.show()"
   ]
  },
  {
   "cell_type": "markdown",
   "metadata": {},
   "source": [
    "De la distribución de edades, se puede observar que entre 20 y 40 años es donde se concentra la mayor cantidad de accidentes, superando incluso los 350 accidentes. También, se evidencia la presencia de personas registradas con edades incluso superiores a los 100 años. \n",
    "\n",
    "Para identificar mejor los valores extremos se diseña una tabla de frecuencias y una gráfica de caja-bigotes."
   ]
  },
  {
   "cell_type": "code",
   "execution_count": 7,
   "metadata": {},
   "outputs": [
    {
     "data": {
      "image/png": "[encoded data removed]",
      "text/plain": [
       "<Figure size 432x288 with 1 Axes>"
      ]
     },
     "metadata": {
      "needs_background": "light"
     },
     "output_type": "display_data"
    }
   ],
   "source": [
    "fig = plt.figure()\n",
    "ax = fig.add_subplot(1,1,1)\n",
    "sns.boxplot(ages, ax=ax)\n",
    "plt.show()"
   ]
  },
  {
   "cell_type": "code",
   "execution_count": 8,
   "metadata": {},
   "outputs": [
    {
     "data": {
      "text/html": [
       "<div>\n",
       "<style scoped>\n",
       "    .dataframe tbody tr th:only-of-type {\n",
       "        vertical-align: middle;\n",
       "    }\n",
       "\n",
       "    .dataframe tbody tr th {\n",
       "        vertical-align: top;\n",
       "    }\n",
       "\n",
       "    .dataframe thead th {\n",
       "        text-align: right;\n",
       "    }\n",
       "</style>\n",
       "<table border=\"1\" class=\"dataframe\">\n",
       "  <thead>\n",
       "    <tr style=\"text-align: right;\">\n",
       "      <th></th>\n",
       "      <th>CANTIDAD_VICTIMAS</th>\n",
       "    </tr>\n",
       "    <tr>\n",
       "      <th>EDAD_VICTIMA</th>\n",
       "      <th></th>\n",
       "    </tr>\n",
       "  </thead>\n",
       "  <tbody>\n",
       "    <tr>\n",
       "      <th>(0, 10]</th>\n",
       "      <td>101</td>\n",
       "    </tr>\n",
       "    <tr>\n",
       "      <th>(10, 20]</th>\n",
       "      <td>334</td>\n",
       "    </tr>\n",
       "    <tr>\n",
       "      <th>(20, 30]</th>\n",
       "      <td>1188</td>\n",
       "    </tr>\n",
       "    <tr>\n",
       "      <th>(30, 40]</th>\n",
       "      <td>854</td>\n",
       "    </tr>\n",
       "    <tr>\n",
       "      <th>(40, 50]</th>\n",
       "      <td>424</td>\n",
       "    </tr>\n",
       "    <tr>\n",
       "      <th>(50, 60]</th>\n",
       "      <td>340</td>\n",
       "    </tr>\n",
       "    <tr>\n",
       "      <th>(60, 70]</th>\n",
       "      <td>199</td>\n",
       "    </tr>\n",
       "    <tr>\n",
       "      <th>(70, 80]</th>\n",
       "      <td>65</td>\n",
       "    </tr>\n",
       "    <tr>\n",
       "      <th>(80, 90]</th>\n",
       "      <td>28</td>\n",
       "    </tr>\n",
       "    <tr>\n",
       "      <th>(90, 100]</th>\n",
       "      <td>4</td>\n",
       "    </tr>\n",
       "    <tr>\n",
       "      <th>(100, 110]</th>\n",
       "      <td>0</td>\n",
       "    </tr>\n",
       "    <tr>\n",
       "      <th>(110, 120]</th>\n",
       "      <td>1</td>\n",
       "    </tr>\n",
       "  </tbody>\n",
       "</table>\n",
       "</div>"
      ],
      "text/plain": [
       "              CANTIDAD_VICTIMAS\n",
       "EDAD_VICTIMA                   \n",
       "(0, 10]                     101\n",
       "(10, 20]                    334\n",
       "(20, 30]                   1188\n",
       "(30, 40]                    854\n",
       "(40, 50]                    424\n",
       "(50, 60]                    340\n",
       "(60, 70]                    199\n",
       "(70, 80]                     65\n",
       "(80, 90]                     28\n",
       "(90, 100]                     4\n",
       "(100, 110]                    0\n",
       "(110, 120]                    1"
      ]
     },
     "execution_count": 8,
     "metadata": {},
     "output_type": "execute_result"
    }
   ],
   "source": [
    "bins = pd.cut(ages, bins=[x for x in range(0,130,10)], include_lowest=False, retbins=False)\n",
    "victimas_df.groupby(bins).agg({'CANTIDAD_VICTIMAS':sum})"
   ]
  },
  {
   "cell_type": "markdown",
   "metadata": {},
   "source": [
    "El gráfico de caja y bigotes define como datos extremos a todas las víctimas con edad mayor a unos 75 años aproximadamente. Nuestro objetivo es reportar un promedio de las edades, y la media es un valor que se ve afectado por datos atípicos, por eso, definimos 90 años como la máxima edad aceptada por el stakeholder. Excluyendo edades mayores a 90 años se obtienen los siguientes resultados."
   ]
  },
  {
   "cell_type": "code",
   "execution_count": 9,
   "metadata": {},
   "outputs": [
    {
     "data": {
      "text/plain": [
       "count    3533.000000\n",
       "mean       35.437871\n",
       "std        15.628940\n",
       "min         1.000000\n",
       "25%        24.000000\n",
       "50%        32.000000\n",
       "75%        44.000000\n",
       "max        90.000000\n",
       "Name: EDAD_VICTIMA, dtype: float64"
      ]
     },
     "execution_count": 9,
     "metadata": {},
     "output_type": "execute_result"
    }
   ],
   "source": [
    "victimas_df = victimas_df[victimas_df['EDAD_VICTIMA'] <= 90]\n",
    "ages[ages <= 90].describe()"
   ]
  },
  {
   "cell_type": "markdown",
   "metadata": {},
   "source": [
    "La edad promedio de las victimas de accidentes en la ciudad de Barranquilla en el periodo de 2015 a 2018 es de 35 años, con una desviación estandar de 15 años. Además, el 25% de las victimas tiene entre 1 y 24 años.\n",
    "\n",
    "Las victimas con un rango de edad entre los 20 y 30 años representan el grupo más frecuente de accidentados con un total de 1188 accidentes registrados, seguido del rango entre los 30 y 40 años con 854 accidentes registrados.\n",
    "\n",
    "A continuación se relaciona la edad con otras variables presents en el dataset."
   ]
  },
  {
   "cell_type": "code",
   "execution_count": 10,
   "metadata": {},
   "outputs": [
    {
     "data": {
      "image/png": "[encoded data removed]",
      "text/plain": [
       "<Figure size 432x288 with 1 Axes>"
      ]
     },
     "metadata": {
      "needs_background": "light"
     },
     "output_type": "display_data"
    }
   ],
   "source": [
    "fig = plt.figure()\n",
    "ax = fig.add_subplot(1,1,1)\n",
    "sns.boxplot(x='AÑO_ACCIDENTE', y='EDAD_VICTIMA', data=victimas_df, ax=ax)\n",
    "ax.set(title='Edades por Año')\n",
    "plt.show()"
   ]
  },
  {
   "cell_type": "markdown",
   "metadata": {},
   "source": [
    "Las distribuciones de las edades se comportan muy parecido en los años disponibles, por lo que las conclusiones encontradas para la totalidad de los datos pueden generalizarse para cualquier año específico dentro del rango (2015 - 2018).\n",
    "\n",
    "A continuación se presenta la edad agrupada por el sexo de la víctima."
   ]
  },
  {
   "cell_type": "code",
   "execution_count": 11,
   "metadata": {
    "scrolled": true
   },
   "outputs": [
    {
     "data": {
      "text/html": [
       "<div>\n",
       "<style scoped>\n",
       "    .dataframe tbody tr th:only-of-type {\n",
       "        vertical-align: middle;\n",
       "    }\n",
       "\n",
       "    .dataframe tbody tr th {\n",
       "        vertical-align: top;\n",
       "    }\n",
       "\n",
       "    .dataframe thead tr th {\n",
       "        text-align: left;\n",
       "    }\n",
       "\n",
       "    .dataframe thead tr:last-of-type th {\n",
       "        text-align: right;\n",
       "    }\n",
       "</style>\n",
       "<table border=\"1\" class=\"dataframe\">\n",
       "  <thead>\n",
       "    <tr>\n",
       "      <th></th>\n",
       "      <th colspan=\"3\" halign=\"left\">mean</th>\n",
       "      <th colspan=\"3\" halign=\"left\">std</th>\n",
       "    </tr>\n",
       "    <tr>\n",
       "      <th>SEXO_VICTIMA</th>\n",
       "      <th>F</th>\n",
       "      <th>M</th>\n",
       "      <th>All</th>\n",
       "      <th>F</th>\n",
       "      <th>M</th>\n",
       "      <th>All</th>\n",
       "    </tr>\n",
       "    <tr>\n",
       "      <th>AÑO_ACCIDENTE</th>\n",
       "      <th></th>\n",
       "      <th></th>\n",
       "      <th></th>\n",
       "      <th></th>\n",
       "      <th></th>\n",
       "      <th></th>\n",
       "    </tr>\n",
       "  </thead>\n",
       "  <tbody>\n",
       "    <tr>\n",
       "      <th>2016</th>\n",
       "      <td>37.756198</td>\n",
       "      <td>36.528694</td>\n",
       "      <td>36.808671</td>\n",
       "      <td>17.984389</td>\n",
       "      <td>15.695454</td>\n",
       "      <td>16.245236</td>\n",
       "    </tr>\n",
       "    <tr>\n",
       "      <th>2017</th>\n",
       "      <td>37.101010</td>\n",
       "      <td>35.187954</td>\n",
       "      <td>35.638889</td>\n",
       "      <td>16.545287</td>\n",
       "      <td>15.675470</td>\n",
       "      <td>15.898874</td>\n",
       "    </tr>\n",
       "    <tr>\n",
       "      <th>2018</th>\n",
       "      <td>34.842520</td>\n",
       "      <td>33.813152</td>\n",
       "      <td>34.028878</td>\n",
       "      <td>15.622233</td>\n",
       "      <td>14.396445</td>\n",
       "      <td>14.661160</td>\n",
       "    </tr>\n",
       "    <tr>\n",
       "      <th>All</th>\n",
       "      <td>36.577554</td>\n",
       "      <td>35.108029</td>\n",
       "      <td>35.437871</td>\n",
       "      <td>16.738688</td>\n",
       "      <td>15.280104</td>\n",
       "      <td>15.626728</td>\n",
       "    </tr>\n",
       "  </tbody>\n",
       "</table>\n",
       "</div>"
      ],
      "text/plain": [
       "                    mean                              std             \\\n",
       "SEXO_VICTIMA           F          M        All          F          M   \n",
       "AÑO_ACCIDENTE                                                          \n",
       "2016           37.756198  36.528694  36.808671  17.984389  15.695454   \n",
       "2017           37.101010  35.187954  35.638889  16.545287  15.675470   \n",
       "2018           34.842520  33.813152  34.028878  15.622233  14.396445   \n",
       "All            36.577554  35.108029  35.437871  16.738688  15.280104   \n",
       "\n",
       "                          \n",
       "SEXO_VICTIMA         All  \n",
       "AÑO_ACCIDENTE             \n",
       "2016           16.245236  \n",
       "2017           15.898874  \n",
       "2018           14.661160  \n",
       "All            15.626728  "
      ]
     },
     "execution_count": 11,
     "metadata": {},
     "output_type": "execute_result"
    }
   ],
   "source": [
    "pd.pivot_table(data=victimas_df, \n",
    "              values='EDAD_VICTIMA',\n",
    "              index='AÑO_ACCIDENTE',\n",
    "              columns='SEXO_VICTIMA',\n",
    "              aggfunc=[np.mean, np.std],\n",
    "              margins=True)"
   ]
  },
  {
   "cell_type": "code",
   "execution_count": 13,
   "metadata": {},
   "outputs": [
    {
     "data": {
      "image/png": "[encoded data removed]",
      "text/plain": [
       "<Figure size 432x288 with 1 Axes>"
      ]
     },
     "metadata": {
      "needs_background": "light"
     },
     "output_type": "display_data"
    }
   ],
   "source": [
    "fig = plt.figure()\n",
    "ax = fig.add_subplot(1,1,1)\n",
    "sns.barplot(x='AÑO_ACCIDENTE', y='EDAD_VICTIMA',\n",
    "            hue='SEXO_VICTIMA', data=victimas_df, ax=ax)\n",
    "ax.set(title='Edades por Año')\n",
    "plt.show()"
   ]
  },
  {
   "cell_type": "markdown",
   "metadata": {},
   "source": [
    "Con el diagrama de barras se evidencia como hay una leve tendencia que indica que la edad promedio de las victimas de los accidentes, de la tabla puede observarse que dicha diferencia es de casi dos años en la media de la edad, y de 1 año en la desviación estandar.\n",
    "\n",
    "Para evaluar la diferencia resulta mucho más util utilizar el estadístico de Cohen para diferencia de grupos, este se define cómo:\n",
    "\n",
    "$$d = \\frac{M_1 - M_2}{S_{pooled}}$$\n",
    "\n",
    "donde:\n",
    "* $M_1$ es la media del grupo 1\n",
    "* $M_1$ es la media del grupo 2\n",
    "* $S_{pooled}$ se define como la varianza combinada de dos grupos"
   ]
  },
  {
   "cell_type": "code",
   "execution_count": 19,
   "metadata": {},
   "outputs": [
    {
     "name": "stdout",
     "output_type": "stream",
     "text": [
      "En los 3 años disponibles, la diferencia de las edades promedio entre hombres y mujeres es de -0.09 desviaciones estandar\n"
     ]
    }
   ],
   "source": [
    "def cohen_d(group1, group2):\n",
    "    diff = group1.mean() - group2.mean()\n",
    "    var1, var2 = group1.var(), group2.var()\n",
    "    n1, n2 = len(group1), len(group2)\n",
    "    pooled_var = (n1 * var1 + n2 * var2) / (n1 + n2)\n",
    "    d = diff / np.sqrt(pooled_var)\n",
    "    return d\n",
    "\n",
    "cohen_general = cohen_d(victimas_df[victimas_df['SEXO_VICTIMA'] == 'M']['EDAD_VICTIMA'],\n",
    "                        victimas_df[victimas_df['SEXO_VICTIMA'] == 'F']['EDAD_VICTIMA'])\n",
    "print('En los 3 años disponibles, la diferencia de las edades promedio entre hombres y mujeres es de %.2f desviaciones estandar'%cohen_general)"
   ]
  },
  {
   "cell_type": "markdown",
   "metadata": {},
   "source": [
    "Una diferencia de -0.09 desviaciones estandares de las mujeres y hombres nos indica que no es una diferencia significativa por ser un valor muy pequeño. Resulta interesante ver el comportamiento de esta diferencia con el paso de los años, para ello se calcula el valor del estadistico por cada año disponible."
   ]
  },
  {
   "cell_type": "code",
   "execution_count": 30,
   "metadata": {},
   "outputs": [
    {
     "data": {
      "text/html": [
       "<div>\n",
       "<style scoped>\n",
       "    .dataframe tbody tr th:only-of-type {\n",
       "        vertical-align: middle;\n",
       "    }\n",
       "\n",
       "    .dataframe tbody tr th {\n",
       "        vertical-align: top;\n",
       "    }\n",
       "\n",
       "    .dataframe thead th {\n",
       "        text-align: right;\n",
       "    }\n",
       "</style>\n",
       "<table border=\"1\" class=\"dataframe\">\n",
       "  <thead>\n",
       "    <tr style=\"text-align: right;\">\n",
       "      <th></th>\n",
       "      <th>AÑO</th>\n",
       "      <th>Estadistico de Cohen</th>\n",
       "    </tr>\n",
       "  </thead>\n",
       "  <tbody>\n",
       "    <tr>\n",
       "      <th>0</th>\n",
       "      <td>2016</td>\n",
       "      <td>-0.075558</td>\n",
       "    </tr>\n",
       "    <tr>\n",
       "      <th>1</th>\n",
       "      <td>2017</td>\n",
       "      <td>-0.120433</td>\n",
       "    </tr>\n",
       "    <tr>\n",
       "      <th>2</th>\n",
       "      <td>2018</td>\n",
       "      <td>-0.070207</td>\n",
       "    </tr>\n",
       "  </tbody>\n",
       "</table>\n",
       "</div>"
      ],
      "text/plain": [
       "    AÑO  Estadistico de Cohen\n",
       "0  2016             -0.075558\n",
       "1  2017             -0.120433\n",
       "2  2018             -0.070207"
      ]
     },
     "execution_count": 30,
     "metadata": {},
     "output_type": "execute_result"
    }
   ],
   "source": [
    "cohen_2016 = cohen_d(victimas_df[(victimas_df['SEXO_VICTIMA'] == 'M') & (victimas_df['AÑO_ACCIDENTE'] == 2016)]['EDAD_VICTIMA'],\n",
    "                    victimas_df[(victimas_df['SEXO_VICTIMA'] == 'F') & (victimas_df['AÑO_ACCIDENTE'] == 2016)]['EDAD_VICTIMA'])\n",
    "\n",
    "cohen_2017 = cohen_d(victimas_df[(victimas_df['SEXO_VICTIMA'] == 'M') & (victimas_df['AÑO_ACCIDENTE'] == 2017)]['EDAD_VICTIMA'],\n",
    "                    victimas_df[(victimas_df['SEXO_VICTIMA'] == 'F') & (victimas_df['AÑO_ACCIDENTE'] == 2017)]['EDAD_VICTIMA'])\n",
    "\n",
    "cohen_2018 = cohen_d(victimas_df[(victimas_df['SEXO_VICTIMA'] == 'M') & (victimas_df['AÑO_ACCIDENTE'] == 2018)]['EDAD_VICTIMA'],\n",
    "                    victimas_df[(victimas_df['SEXO_VICTIMA'] == 'F') & (victimas_df['AÑO_ACCIDENTE'] == 2018)]['EDAD_VICTIMA'])\n",
    "\n",
    "# Show values\n",
    "cohen_df = pd.DataFrame()\n",
    "cohen_df['AÑO'] = [2016,2017,2018]\n",
    "cohen_df['Estadistico de Cohen'] = [cohen_2016, cohen_2017, cohen_2018]\n",
    "cohen_df"
   ]
  },
  {
   "cell_type": "markdown",
   "metadata": {},
   "source": [
    "El valor del estadístico de Cohen muestra que la diferencia en la media de edades siempre es negativa entre hombres y mujeres, quiere decir que las mujeres en general se accidentan más jovenes que los hombres, pero dicha diferencia es bastante menor y poco significativa (-0.07 con un alza en 2017 de -0.12).\n",
    "\n",
    "Con respecto a la edad, tambien resulta útil describir cómo se distribuyen las edades para la condición de la victima, es decir, si esta era un pasajero, un acompañante, un peatón, etc."
   ]
  },
  {
   "cell_type": "code",
   "execution_count": 67,
   "metadata": {},
   "outputs": [
    {
     "data": {
      "image/png": "[encoded data removed]",
      "text/plain": [
       "<Figure size 432x288 with 1 Axes>"
      ]
     },
     "metadata": {
      "needs_background": "light"
     },
     "output_type": "display_data"
    }
   ],
   "source": [
    "fig = plt.figure()\n",
    "ax = fig.add_subplot(1,1,1)\n",
    "sns.boxplot(y='CONDICION_VICTIMA', x='EDAD_VICTIMA',\n",
    "            data=victimas_df, ax=ax)\n",
    "ax.set(title='Edades por Condición')\n",
    "plt.tight_layout()\n",
    "plt.show()"
   ]
  },
  {
   "cell_type": "code",
   "execution_count": 78,
   "metadata": {},
   "outputs": [
    {
     "data": {
      "text/html": [
       "<div>\n",
       "<style scoped>\n",
       "    .dataframe tbody tr th:only-of-type {\n",
       "        vertical-align: middle;\n",
       "    }\n",
       "\n",
       "    .dataframe tbody tr th {\n",
       "        vertical-align: top;\n",
       "    }\n",
       "\n",
       "    .dataframe thead tr th {\n",
       "        text-align: left;\n",
       "    }\n",
       "</style>\n",
       "<table border=\"1\" class=\"dataframe\">\n",
       "  <thead>\n",
       "    <tr>\n",
       "      <th></th>\n",
       "      <th>mean</th>\n",
       "      <th>std</th>\n",
       "    </tr>\n",
       "    <tr>\n",
       "      <th></th>\n",
       "      <th>EDAD_VICTIMA</th>\n",
       "      <th>EDAD_VICTIMA</th>\n",
       "    </tr>\n",
       "  </thead>\n",
       "  <tbody>\n",
       "    <tr>\n",
       "      <th>Acompañante</th>\n",
       "      <td>30.422939</td>\n",
       "      <td>12.687105</td>\n",
       "    </tr>\n",
       "    <tr>\n",
       "      <th>Ciclista</th>\n",
       "      <td>37.558442</td>\n",
       "      <td>18.029576</td>\n",
       "    </tr>\n",
       "    <tr>\n",
       "      <th>Conductor</th>\n",
       "      <td>40.304795</td>\n",
       "      <td>13.634134</td>\n",
       "    </tr>\n",
       "    <tr>\n",
       "      <th>Menor de edad</th>\n",
       "      <td>3.000000</td>\n",
       "      <td>NaN</td>\n",
       "    </tr>\n",
       "    <tr>\n",
       "      <th>Motociclista</th>\n",
       "      <td>33.450777</td>\n",
       "      <td>10.836922</td>\n",
       "    </tr>\n",
       "    <tr>\n",
       "      <th>No reporto</th>\n",
       "      <td>38.333333</td>\n",
       "      <td>9.073772</td>\n",
       "    </tr>\n",
       "    <tr>\n",
       "      <th>Pasajero</th>\n",
       "      <td>35.915820</td>\n",
       "      <td>17.090607</td>\n",
       "    </tr>\n",
       "    <tr>\n",
       "      <th>Peaton</th>\n",
       "      <td>41.830961</td>\n",
       "      <td>22.491232</td>\n",
       "    </tr>\n",
       "  </tbody>\n",
       "</table>\n",
       "</div>"
      ],
      "text/plain": [
       "                      mean          std\n",
       "              EDAD_VICTIMA EDAD_VICTIMA\n",
       "Acompañante      30.422939    12.687105\n",
       "Ciclista         37.558442    18.029576\n",
       "Conductor        40.304795    13.634134\n",
       "Menor de edad     3.000000          NaN\n",
       "Motociclista     33.450777    10.836922\n",
       "No reporto       38.333333     9.073772\n",
       "Pasajero         35.915820    17.090607\n",
       "Peaton           41.830961    22.491232"
      ]
     },
     "execution_count": 78,
     "metadata": {},
     "output_type": "execute_result"
    }
   ],
   "source": [
    "pd.pivot_table(data=victimas_df, \n",
    "              values='EDAD_VICTIMA',\n",
    "              index='CONDICION_VICTIMA',\n",
    "              aggfunc=[np.mean, np.std])"
   ]
  },
  {
   "cell_type": "markdown",
   "metadata": {},
   "source": [
    "De las edades promedio de las víctimas agrupadas por su condición en el accidente, llama la atención que los motociclistas tienen la edad promedio más baja. \n",
    "\n",
    "Una edad media de 33 años con desviación estándar de 10 años lo que da a entender es que los motociclistas de la ciudad representan a la gran mayoria de la población juvenil, a continuación se grafican las distribuciones de estas condiciones para poder obtener más información."
   ]
  },
  {
   "cell_type": "code",
   "execution_count": 81,
   "metadata": {},
   "outputs": [
    {
     "data": {
      "text/html": [
       "<div>\n",
       "<style scoped>\n",
       "    .dataframe tbody tr th:only-of-type {\n",
       "        vertical-align: middle;\n",
       "    }\n",
       "\n",
       "    .dataframe tbody tr th {\n",
       "        vertical-align: top;\n",
       "    }\n",
       "\n",
       "    .dataframe thead th {\n",
       "        text-align: right;\n",
       "    }\n",
       "</style>\n",
       "<table border=\"1\" class=\"dataframe\">\n",
       "  <thead>\n",
       "    <tr style=\"text-align: right;\">\n",
       "      <th></th>\n",
       "      <th>CANTIDAD_VICTIMAS</th>\n",
       "    </tr>\n",
       "    <tr>\n",
       "      <th>CONDICION_VICTIMA</th>\n",
       "      <th></th>\n",
       "    </tr>\n",
       "  </thead>\n",
       "  <tbody>\n",
       "    <tr>\n",
       "      <th>Acompañante</th>\n",
       "      <td>558</td>\n",
       "    </tr>\n",
       "    <tr>\n",
       "      <th>Ciclista</th>\n",
       "      <td>77</td>\n",
       "    </tr>\n",
       "    <tr>\n",
       "      <th>Conductor</th>\n",
       "      <td>292</td>\n",
       "    </tr>\n",
       "    <tr>\n",
       "      <th>Menor de edad</th>\n",
       "      <td>1</td>\n",
       "    </tr>\n",
       "    <tr>\n",
       "      <th>Motociclista</th>\n",
       "      <td>1351</td>\n",
       "    </tr>\n",
       "    <tr>\n",
       "      <th>No reporto</th>\n",
       "      <td>3</td>\n",
       "    </tr>\n",
       "    <tr>\n",
       "      <th>Pasajero</th>\n",
       "      <td>689</td>\n",
       "    </tr>\n",
       "    <tr>\n",
       "      <th>Peaton</th>\n",
       "      <td>562</td>\n",
       "    </tr>\n",
       "  </tbody>\n",
       "</table>\n",
       "</div>"
      ],
      "text/plain": [
       "                   CANTIDAD_VICTIMAS\n",
       "CONDICION_VICTIMA                   \n",
       "Acompañante                      558\n",
       "Ciclista                          77\n",
       "Conductor                        292\n",
       "Menor de edad                      1\n",
       "Motociclista                    1351\n",
       "No reporto                         3\n",
       "Pasajero                         689\n",
       "Peaton                           562"
      ]
     },
     "execution_count": 81,
     "metadata": {},
     "output_type": "execute_result"
    }
   ],
   "source": [
    "victimas_df.groupby('CONDICION_VICTIMA').agg({'CANTIDAD_VICTIMAS':sum})"
   ]
  },
  {
   "cell_type": "markdown",
   "metadata": {},
   "source": [
    "Con la tabla anterior, queda aún más claro que los motociclistas son los conductores con mayor tendencia a estar involucrados en accidentes (38.23% del total de victimas).\n",
    "\n",
    "Resulta importante conocer entonces la edad promedio de las víctimas agrupadas por la gravedad de sus accidentes."
   ]
  },
  {
   "cell_type": "code",
   "execution_count": 87,
   "metadata": {},
   "outputs": [
    {
     "data": {
      "image/png": "[encoded data removed]",
      "text/plain": [
       "<Figure size 432x288 with 1 Axes>"
      ]
     },
     "metadata": {
      "needs_background": "light"
     },
     "output_type": "display_data"
    }
   ],
   "source": [
    "fig = plt.figure()\n",
    "ax = fig.add_subplot(1,1,1)\n",
    "sns.boxplot(x='EDAD_VICTIMA', y='GRAVEDAD_ACCIDENTE', hue='SEXO_VICTIMA',\n",
    "            data=victimas_df, ax=ax)\n",
    "ax.set(title='Edad por gravedad de accidente')\n",
    "plt.show()"
   ]
  },
  {
   "cell_type": "code",
   "execution_count": 94,
   "metadata": {},
   "outputs": [
    {
     "data": {
      "text/html": [
       "<div>\n",
       "<style scoped>\n",
       "    .dataframe tbody tr th:only-of-type {\n",
       "        vertical-align: middle;\n",
       "    }\n",
       "\n",
       "    .dataframe tbody tr th {\n",
       "        vertical-align: top;\n",
       "    }\n",
       "\n",
       "    .dataframe thead tr th {\n",
       "        text-align: left;\n",
       "    }\n",
       "\n",
       "    .dataframe thead tr:last-of-type th {\n",
       "        text-align: right;\n",
       "    }\n",
       "</style>\n",
       "<table border=\"1\" class=\"dataframe\">\n",
       "  <thead>\n",
       "    <tr>\n",
       "      <th></th>\n",
       "      <th colspan=\"2\" halign=\"left\">mean</th>\n",
       "      <th colspan=\"2\" halign=\"left\">std</th>\n",
       "    </tr>\n",
       "    <tr>\n",
       "      <th>SEXO_VICTIMA</th>\n",
       "      <th>F</th>\n",
       "      <th>M</th>\n",
       "      <th>F</th>\n",
       "      <th>M</th>\n",
       "    </tr>\n",
       "    <tr>\n",
       "      <th>GRAVEDAD_ACCIDENTE</th>\n",
       "      <th></th>\n",
       "      <th></th>\n",
       "      <th></th>\n",
       "      <th></th>\n",
       "    </tr>\n",
       "  </thead>\n",
       "  <tbody>\n",
       "    <tr>\n",
       "      <th>herido</th>\n",
       "      <td>36.649936</td>\n",
       "      <td>34.888973</td>\n",
       "      <td>16.722754</td>\n",
       "      <td>15.214830</td>\n",
       "    </tr>\n",
       "    <tr>\n",
       "      <th>muerto</th>\n",
       "      <td>33.062500</td>\n",
       "      <td>42.120482</td>\n",
       "      <td>17.691688</td>\n",
       "      <td>15.794718</td>\n",
       "    </tr>\n",
       "  </tbody>\n",
       "</table>\n",
       "</div>"
      ],
      "text/plain": [
       "                         mean                   std           \n",
       "SEXO_VICTIMA                F          M          F          M\n",
       "GRAVEDAD_ACCIDENTE                                            \n",
       "herido              36.649936  34.888973  16.722754  15.214830\n",
       "muerto              33.062500  42.120482  17.691688  15.794718"
      ]
     },
     "execution_count": 94,
     "metadata": {},
     "output_type": "execute_result"
    }
   ],
   "source": [
    "pd.pivot_table(data=victimas_df, \n",
    "              values='EDAD_VICTIMA',\n",
    "              index='GRAVEDAD_ACCIDENTE',\n",
    "              columns='SEXO_VICTIMA',\n",
    "              aggfunc=[np.mean, np.std])"
   ]
  },
  {
   "cell_type": "markdown",
   "metadata": {},
   "source": [
    "De la gráfica de caja y bigotes resalta que la edad promedio de las mujeres que pierden la vida en los accidentes de tráfico es la más baja comparada con las mujeres y hombres que resultan heridos tras los accidentes.\n",
    "\n",
    "Tomando como referencia que la edad promedio de los hombres involucrados en los accidentes es 35 años, si la persona resulta desafortunadamente muerta en el accidente, ser hombre incrementa su edad promedio a 42 años mientra que para las mujeres, la edad media de referencia es 36 años y perder en la vida en el accidente reduce su edad media a 33 años.\n",
    "\n",
    "La conclusión es que las mujeres que pierden la vida en los accidentes de tránsito en la ciudad son mucho más jovenes en promedio que los hombre que desafortunadamente también mueren en accidentes.\n",
    "\n",
    "Utilizando el estadístico de Cohen se evalua tal diferencia:"
   ]
  },
  {
   "cell_type": "code",
   "execution_count": 34,
   "metadata": {},
   "outputs": [
    {
     "name": "stdout",
     "output_type": "stream",
     "text": [
      "La diferencia de las edades promedio entre heridos y muertos sin importar genero es de -0.34 desviaciones estandar\n"
     ]
    }
   ],
   "source": [
    "cohen_herido = cohen_d(victimas_df[victimas_df['GRAVEDAD_ACCIDENTE'] == 'herido']['EDAD_VICTIMA'],\n",
    "                      victimas_df[victimas_df['GRAVEDAD_ACCIDENTE'] == 'muerto']['EDAD_VICTIMA'])\n",
    "\n",
    "print('La diferencia de las edades promedio entre heridos y muertos sin importar genero es de %.2f desviaciones estandar'%cohen_herido)"
   ]
  },
  {
   "cell_type": "markdown",
   "metadata": {},
   "source": [
    "la diferencia de -0.34 desviaciones indica que las víctimas que lamentablemente fallecen en sus accidentes son 0.34 desviaciones mayores a quienes solo sufren heridas. Para medir la diferencia entre hombres y mujeres en el grupo de fallecidos se utiliza el mismo estadístico."
   ]
  },
  {
   "cell_type": "code",
   "execution_count": 38,
   "metadata": {},
   "outputs": [
    {
     "name": "stdout",
     "output_type": "stream",
     "text": [
      "La diferencia de las edades promedio entre hombres y mujeres fallecidos en los accidentes es de 0.56 desviaciones estandar\n"
     ]
    }
   ],
   "source": [
    "cohen_muertos_genero = cohen_d(victimas_df[(victimas_df['GRAVEDAD_ACCIDENTE'] == 'muerto') & (victimas_df['SEXO_VICTIMA'] == 'M')]['EDAD_VICTIMA'],\n",
    "                               victimas_df[(victimas_df['GRAVEDAD_ACCIDENTE'] == 'muerto') & (victimas_df['SEXO_VICTIMA'] == 'F')]['EDAD_VICTIMA'])\n",
    "\n",
    "print('La diferencia de las edades promedio entre hombres y mujeres fallecidos en los accidentes es de %.2f desviaciones estandar'%cohen_muertos_genero)"
   ]
  },
  {
   "cell_type": "markdown",
   "metadata": {},
   "source": [
    "Tal cómo lo muestran los diagramas de caja y bigotes, las mujeres que lamentablemente fallecen en accidentes en la ciudad de Barranquilla se diferencian en 0.56 desviaciones estandar de la edad promedio de hombres que tambien fallecen.\n",
    "\n",
    "### Genero de las víctimas\n",
    "Un primer punto de evaluación para género es encontrar la cantidad de hombres y mujeres accidentados."
   ]
  },
  {
   "cell_type": "code",
   "execution_count": 55,
   "metadata": {},
   "outputs": [
    {
     "data": {
      "text/html": [
       "<div>\n",
       "<style scoped>\n",
       "    .dataframe tbody tr th:only-of-type {\n",
       "        vertical-align: middle;\n",
       "    }\n",
       "\n",
       "    .dataframe tbody tr th {\n",
       "        vertical-align: top;\n",
       "    }\n",
       "\n",
       "    .dataframe thead th {\n",
       "        text-align: right;\n",
       "    }\n",
       "</style>\n",
       "<table border=\"1\" class=\"dataframe\">\n",
       "  <thead>\n",
       "    <tr style=\"text-align: right;\">\n",
       "      <th></th>\n",
       "      <th></th>\n",
       "      <th>CANTIDAD_VICTIMAS</th>\n",
       "    </tr>\n",
       "    <tr>\n",
       "      <th>AÑO_ACCIDENTE</th>\n",
       "      <th>SEXO_VICTIMA</th>\n",
       "      <th></th>\n",
       "    </tr>\n",
       "  </thead>\n",
       "  <tbody>\n",
       "    <tr>\n",
       "      <th rowspan=\"2\" valign=\"top\">2016</th>\n",
       "      <th>F</th>\n",
       "      <td>242</td>\n",
       "    </tr>\n",
       "    <tr>\n",
       "      <th>M</th>\n",
       "      <td>819</td>\n",
       "    </tr>\n",
       "    <tr>\n",
       "      <th rowspan=\"2\" valign=\"top\">2017</th>\n",
       "      <th>F</th>\n",
       "      <td>297</td>\n",
       "    </tr>\n",
       "    <tr>\n",
       "      <th>M</th>\n",
       "      <td>963</td>\n",
       "    </tr>\n",
       "    <tr>\n",
       "      <th rowspan=\"2\" valign=\"top\">2018</th>\n",
       "      <th>F</th>\n",
       "      <td>254</td>\n",
       "    </tr>\n",
       "    <tr>\n",
       "      <th>M</th>\n",
       "      <td>958</td>\n",
       "    </tr>\n",
       "  </tbody>\n",
       "</table>\n",
       "</div>"
      ],
      "text/plain": [
       "                            CANTIDAD_VICTIMAS\n",
       "AÑO_ACCIDENTE SEXO_VICTIMA                   \n",
       "2016          F                           242\n",
       "              M                           819\n",
       "2017          F                           297\n",
       "              M                           963\n",
       "2018          F                           254\n",
       "              M                           958"
      ]
     },
     "execution_count": 55,
     "metadata": {},
     "output_type": "execute_result"
    }
   ],
   "source": [
    "gender_df = victimas_df.groupby(['AÑO_ACCIDENTE','SEXO_VICTIMA']).agg({'CANTIDAD_VICTIMAS':sum})\n",
    "gender_df"
   ]
  },
  {
   "cell_type": "code",
   "execution_count": 76,
   "metadata": {},
   "outputs": [
    {
     "data": {
      "image/png": "[encoded data removed]",
      "text/plain": [
       "<Figure size 432x288 with 1 Axes>"
      ]
     },
     "metadata": {
      "needs_background": "light"
     },
     "output_type": "display_data"
    }
   ],
   "source": [
    "# Plot\n",
    "fig = plt.figure()\n",
    "ax = fig.add_subplot(1,1,1)\n",
    "sns.lineplot(x=[\"2016\", \"2017\", \"2018\"], y=[gender_df.loc[x,\"F\"].values[0] for x in [2016, 2017, 2018]], data=victimas_df, label=\"F\", ax=ax)\n",
    "sns.lineplot(x=[\"2016\", \"2017\", \"2018\"], y=[gender_df.loc[x,\"M\"].values[0] for x in [2016, 2017, 2018]], data=victimas_df, label=\"M\",ax=ax)\n",
    "ax.set(title='Cantidad de accidentados por genero y año')\n",
    "plt.show()"
   ]
  },
  {
   "cell_type": "markdown",
   "metadata": {},
   "source": [
    "La gráfica muestra la gran diferencia que hay entre la cantidad de hombres y mujeres víctimas de accidentes en cada año, un incremento en el año 2017 que parece mantenerse estable en 2018.\n",
    "\n",
    "A continuación se presenta la cantidad de hombres y mujeres para cada condicion, gravedad, y clase de accidente."
   ]
  },
  {
   "cell_type": "code",
   "execution_count": 80,
   "metadata": {},
   "outputs": [
    {
     "data": {
      "text/html": [
       "<div>\n",
       "<style scoped>\n",
       "    .dataframe tbody tr th:only-of-type {\n",
       "        vertical-align: middle;\n",
       "    }\n",
       "\n",
       "    .dataframe tbody tr th {\n",
       "        vertical-align: top;\n",
       "    }\n",
       "\n",
       "    .dataframe thead th {\n",
       "        text-align: right;\n",
       "    }\n",
       "</style>\n",
       "<table border=\"1\" class=\"dataframe\">\n",
       "  <thead>\n",
       "    <tr style=\"text-align: right;\">\n",
       "      <th></th>\n",
       "      <th></th>\n",
       "      <th>CANTIDAD_VICTIMAS</th>\n",
       "    </tr>\n",
       "    <tr>\n",
       "      <th>SEXO_VICTIMA</th>\n",
       "      <th>CONDICION_VICTIMA</th>\n",
       "      <th></th>\n",
       "    </tr>\n",
       "  </thead>\n",
       "  <tbody>\n",
       "    <tr>\n",
       "      <th rowspan=\"7\" valign=\"top\">F</th>\n",
       "      <th>Acompañante</th>\n",
       "      <td>218</td>\n",
       "    </tr>\n",
       "    <tr>\n",
       "      <th>Ciclista</th>\n",
       "      <td>5</td>\n",
       "    </tr>\n",
       "    <tr>\n",
       "      <th>Conductor</th>\n",
       "      <td>37</td>\n",
       "    </tr>\n",
       "    <tr>\n",
       "      <th>Menor de edad</th>\n",
       "      <td>1</td>\n",
       "    </tr>\n",
       "    <tr>\n",
       "      <th>Motociclista</th>\n",
       "      <td>87</td>\n",
       "    </tr>\n",
       "    <tr>\n",
       "      <th>Pasajero</th>\n",
       "      <td>279</td>\n",
       "    </tr>\n",
       "    <tr>\n",
       "      <th>Peaton</th>\n",
       "      <td>166</td>\n",
       "    </tr>\n",
       "    <tr>\n",
       "      <th rowspan=\"7\" valign=\"top\">M</th>\n",
       "      <th>Acompañante</th>\n",
       "      <td>340</td>\n",
       "    </tr>\n",
       "    <tr>\n",
       "      <th>Ciclista</th>\n",
       "      <td>72</td>\n",
       "    </tr>\n",
       "    <tr>\n",
       "      <th>Conductor</th>\n",
       "      <td>255</td>\n",
       "    </tr>\n",
       "    <tr>\n",
       "      <th>Motociclista</th>\n",
       "      <td>1264</td>\n",
       "    </tr>\n",
       "    <tr>\n",
       "      <th>No reporto</th>\n",
       "      <td>3</td>\n",
       "    </tr>\n",
       "    <tr>\n",
       "      <th>Pasajero</th>\n",
       "      <td>410</td>\n",
       "    </tr>\n",
       "    <tr>\n",
       "      <th>Peaton</th>\n",
       "      <td>396</td>\n",
       "    </tr>\n",
       "  </tbody>\n",
       "</table>\n",
       "</div>"
      ],
      "text/plain": [
       "                                CANTIDAD_VICTIMAS\n",
       "SEXO_VICTIMA CONDICION_VICTIMA                   \n",
       "F            Acompañante                      218\n",
       "             Ciclista                           5\n",
       "             Conductor                         37\n",
       "             Menor de edad                      1\n",
       "             Motociclista                      87\n",
       "             Pasajero                         279\n",
       "             Peaton                           166\n",
       "M            Acompañante                      340\n",
       "             Ciclista                          72\n",
       "             Conductor                        255\n",
       "             Motociclista                    1264\n",
       "             No reporto                         3\n",
       "             Pasajero                         410\n",
       "             Peaton                           396"
      ]
     },
     "execution_count": 80,
     "metadata": {},
     "output_type": "execute_result"
    }
   ],
   "source": [
    "victimas_df.groupby(['SEXO_VICTIMA','CONDICION_VICTIMA']).agg({'CANTIDAD_VICTIMAS':sum})"
   ]
  },
  {
   "cell_type": "code",
   "execution_count": 94,
   "metadata": {},
   "outputs": [
    {
     "data": {
      "image/png": "[encoded data removed]",
      "text/plain": [
       "<Figure size 432x288 with 1 Axes>"
      ]
     },
     "metadata": {
      "needs_background": "light"
     },
     "output_type": "display_data"
    }
   ],
   "source": [
    "hombres_df = victimas_df[victimas_df['SEXO_VICTIMA'] == 'M']\n",
    "mujeres_df = victimas_df[victimas_df['SEXO_VICTIMA'] == 'F']\n",
    "\n",
    "fig = plt.figure()\n",
    "ax = fig.add_subplot(1,1,1)\n",
    "sns.countplot(y='CONDICION_VICTIMA', data=victimas_df, hue='SEXO_VICTIMA', ax=ax)\n",
    "ax.set(ylabel='Condición de Victima', xlabel='Cantidad de Victimas')\n",
    "plt.show()"
   ]
  },
  {
   "cell_type": "markdown",
   "metadata": {},
   "source": [
    "Cómo se habia visto en la sección anterior, motociclista es la condición que más se ve involucrada en accidentes de tránsito en la ciudad (38.24% del total).\n",
    "\n",
    "A su vez, el 73% de los hombres accidentados se clasifican como Motocilista(46.1%), Peaton(14.5%) o Acompañante(12.4%). Las mujeres, por el contrario, sufren la mayor parte de los accidentes cómo pasajeras(35.2%), acompañante(27.5%) y peatón(21%)."
   ]
  },
  {
   "cell_type": "code",
   "execution_count": 117,
   "metadata": {},
   "outputs": [
    {
     "data": {
      "text/html": [
       "<div>\n",
       "<style scoped>\n",
       "    .dataframe tbody tr th:only-of-type {\n",
       "        vertical-align: middle;\n",
       "    }\n",
       "\n",
       "    .dataframe tbody tr th {\n",
       "        vertical-align: top;\n",
       "    }\n",
       "\n",
       "    .dataframe thead th {\n",
       "        text-align: right;\n",
       "    }\n",
       "</style>\n",
       "<table border=\"1\" class=\"dataframe\">\n",
       "  <thead>\n",
       "    <tr style=\"text-align: right;\">\n",
       "      <th></th>\n",
       "      <th></th>\n",
       "      <th>CANTIDAD_VICTIMAS</th>\n",
       "    </tr>\n",
       "    <tr>\n",
       "      <th>SEXO_VICTIMA</th>\n",
       "      <th>GRAVEDAD_ACCIDENTE</th>\n",
       "      <th></th>\n",
       "    </tr>\n",
       "  </thead>\n",
       "  <tbody>\n",
       "    <tr>\n",
       "      <th rowspan=\"2\" valign=\"top\">F</th>\n",
       "      <th>herido</th>\n",
       "      <td>777</td>\n",
       "    </tr>\n",
       "    <tr>\n",
       "      <th>muerto</th>\n",
       "      <td>16</td>\n",
       "    </tr>\n",
       "    <tr>\n",
       "      <th rowspan=\"2\" valign=\"top\">M</th>\n",
       "      <th>herido</th>\n",
       "      <td>2657</td>\n",
       "    </tr>\n",
       "    <tr>\n",
       "      <th>muerto</th>\n",
       "      <td>83</td>\n",
       "    </tr>\n",
       "  </tbody>\n",
       "</table>\n",
       "</div>"
      ],
      "text/plain": [
       "                                 CANTIDAD_VICTIMAS\n",
       "SEXO_VICTIMA GRAVEDAD_ACCIDENTE                   \n",
       "F            herido                            777\n",
       "             muerto                             16\n",
       "M            herido                           2657\n",
       "             muerto                             83"
      ]
     },
     "execution_count": 117,
     "metadata": {},
     "output_type": "execute_result"
    }
   ],
   "source": [
    "victimas_df.groupby(['SEXO_VICTIMA','GRAVEDAD_ACCIDENTE']).agg({'CANTIDAD_VICTIMAS':sum})"
   ]
  },
  {
   "cell_type": "code",
   "execution_count": 120,
   "metadata": {},
   "outputs": [
    {
     "data": {
      "image/png": "[encoded data removed]",
      "text/plain": [
       "<Figure size 432x288 with 1 Axes>"
      ]
     },
     "metadata": {
      "needs_background": "light"
     },
     "output_type": "display_data"
    }
   ],
   "source": [
    "fig = plt.figure()\n",
    "ax = fig.add_subplot(1,1,1)\n",
    "sns.countplot(x='GRAVEDAD_ACCIDENTE', data=victimas_df, hue='SEXO_VICTIMA', ax=ax)\n",
    "ax.set(ylabel='Gravedad del Accidente', xlabel='Cantidad de Victimas')\n",
    "plt.show()"
   ]
  },
  {
   "cell_type": "markdown",
   "metadata": {},
   "source": [
    "Los accidentes más comunes involucran hombres heridos. el ratio de accidentes letales para los hombres de 3 cada 100 accidentes y de 2 cada 100 accidentes para las mujeres."
   ]
  },
  {
   "cell_type": "code",
   "execution_count": 122,
   "metadata": {},
   "outputs": [
    {
     "data": {
      "text/html": [
       "<div>\n",
       "<style scoped>\n",
       "    .dataframe tbody tr th:only-of-type {\n",
       "        vertical-align: middle;\n",
       "    }\n",
       "\n",
       "    .dataframe tbody tr th {\n",
       "        vertical-align: top;\n",
       "    }\n",
       "\n",
       "    .dataframe thead th {\n",
       "        text-align: right;\n",
       "    }\n",
       "</style>\n",
       "<table border=\"1\" class=\"dataframe\">\n",
       "  <thead>\n",
       "    <tr style=\"text-align: right;\">\n",
       "      <th></th>\n",
       "      <th></th>\n",
       "      <th>CANTIDAD_VICTIMAS</th>\n",
       "    </tr>\n",
       "    <tr>\n",
       "      <th>SEXO_VICTIMA</th>\n",
       "      <th>CLASE_ACCIDENTE</th>\n",
       "      <th></th>\n",
       "    </tr>\n",
       "  </thead>\n",
       "  <tbody>\n",
       "    <tr>\n",
       "      <th rowspan=\"6\" valign=\"top\">F</th>\n",
       "      <th>Atropello</th>\n",
       "      <td>161</td>\n",
       "    </tr>\n",
       "    <tr>\n",
       "      <th>Caida Ocupante</th>\n",
       "      <td>29</td>\n",
       "    </tr>\n",
       "    <tr>\n",
       "      <th>Choque</th>\n",
       "      <td>563</td>\n",
       "    </tr>\n",
       "    <tr>\n",
       "      <th>Incendio</th>\n",
       "      <td>16</td>\n",
       "    </tr>\n",
       "    <tr>\n",
       "      <th>Otro</th>\n",
       "      <td>8</td>\n",
       "    </tr>\n",
       "    <tr>\n",
       "      <th>Volcamiento</th>\n",
       "      <td>16</td>\n",
       "    </tr>\n",
       "    <tr>\n",
       "      <th rowspan=\"6\" valign=\"top\">M</th>\n",
       "      <th>Atropello</th>\n",
       "      <td>491</td>\n",
       "    </tr>\n",
       "    <tr>\n",
       "      <th>Caida Ocupante</th>\n",
       "      <td>42</td>\n",
       "    </tr>\n",
       "    <tr>\n",
       "      <th>Choque</th>\n",
       "      <td>2112</td>\n",
       "    </tr>\n",
       "    <tr>\n",
       "      <th>Incendio</th>\n",
       "      <td>6</td>\n",
       "    </tr>\n",
       "    <tr>\n",
       "      <th>Otro</th>\n",
       "      <td>53</td>\n",
       "    </tr>\n",
       "    <tr>\n",
       "      <th>Volcamiento</th>\n",
       "      <td>36</td>\n",
       "    </tr>\n",
       "  </tbody>\n",
       "</table>\n",
       "</div>"
      ],
      "text/plain": [
       "                              CANTIDAD_VICTIMAS\n",
       "SEXO_VICTIMA CLASE_ACCIDENTE                   \n",
       "F            Atropello                      161\n",
       "             Caida Ocupante                  29\n",
       "             Choque                         563\n",
       "             Incendio                        16\n",
       "             Otro                             8\n",
       "             Volcamiento                     16\n",
       "M            Atropello                      491\n",
       "             Caida Ocupante                  42\n",
       "             Choque                        2112\n",
       "             Incendio                         6\n",
       "             Otro                            53\n",
       "             Volcamiento                     36"
      ]
     },
     "execution_count": 122,
     "metadata": {},
     "output_type": "execute_result"
    }
   ],
   "source": [
    "victimas_df.groupby(['SEXO_VICTIMA','CLASE_ACCIDENTE']).agg({'CANTIDAD_VICTIMAS':sum})"
   ]
  },
  {
   "cell_type": "code",
   "execution_count": 124,
   "metadata": {},
   "outputs": [
    {
     "data": {
      "image/png": "[encoded data removed]",
      "text/plain": [
       "<Figure size 432x288 with 1 Axes>"
      ]
     },
     "metadata": {
      "needs_background": "light"
     },
     "output_type": "display_data"
    }
   ],
   "source": [
    "fig = plt.figure()\n",
    "ax = fig.add_subplot(1,1,1)\n",
    "sns.countplot(y='CLASE_ACCIDENTE', data=victimas_df, hue='SEXO_VICTIMA', ax=ax)\n",
    "ax.set(ylabel='Clase de Accidente', xlabel='Cantidad de Victimas')\n",
    "plt.show()"
   ]
  },
  {
   "cell_type": "markdown",
   "metadata": {},
   "source": [
    "Choque(75.7%) y atropello(18.5%) son los principales accidentes para ambos géneros incluyendo accidentes con heridos y muertos."
   ]
  },
  {
   "cell_type": "code",
   "execution_count": 144,
   "metadata": {},
   "outputs": [
    {
     "data": {
      "image/png": "[encoded data removed]",
      "text/plain": [
       "<Figure size 432x288 with 1 Axes>"
      ]
     },
     "metadata": {
      "needs_background": "light"
     },
     "output_type": "display_data"
    }
   ],
   "source": [
    "muertos_df = victimas_df[victimas_df['GRAVEDAD_ACCIDENTE'] == 'muerto']\n",
    "fig = plt.figure()\n",
    "ax = fig.add_subplot(1,1,1)\n",
    "sns.countplot(y='CLASE_ACCIDENTE', data=muertos_df, ax=ax)\n",
    "ax.set(ylabel='Clase de Accidente', xlabel='Cantidad de Muertos')\n",
    "plt.show()"
   ]
  },
  {
   "cell_type": "markdown",
   "metadata": {},
   "source": [
    "Los accidentes más letales son choque y atropello. "
   ]
  },
  {
   "cell_type": "code",
   "execution_count": 133,
   "metadata": {},
   "outputs": [
    {
     "data": {
      "text/html": [
       "<div>\n",
       "<style scoped>\n",
       "    .dataframe tbody tr th:only-of-type {\n",
       "        vertical-align: middle;\n",
       "    }\n",
       "\n",
       "    .dataframe tbody tr th {\n",
       "        vertical-align: top;\n",
       "    }\n",
       "\n",
       "    .dataframe thead th {\n",
       "        text-align: right;\n",
       "    }\n",
       "</style>\n",
       "<table border=\"1\" class=\"dataframe\">\n",
       "  <thead>\n",
       "    <tr style=\"text-align: right;\">\n",
       "      <th></th>\n",
       "      <th></th>\n",
       "      <th>CANTIDAD_VICTIMAS</th>\n",
       "    </tr>\n",
       "    <tr>\n",
       "      <th>GRAVEDAD_ACCIDENTE</th>\n",
       "      <th>CLASE_ACCIDENTE</th>\n",
       "      <th></th>\n",
       "    </tr>\n",
       "  </thead>\n",
       "  <tbody>\n",
       "    <tr>\n",
       "      <th rowspan=\"6\" valign=\"top\">herido</th>\n",
       "      <th>Atropello</th>\n",
       "      <td>617</td>\n",
       "    </tr>\n",
       "    <tr>\n",
       "      <th>Caida Ocupante</th>\n",
       "      <td>69</td>\n",
       "    </tr>\n",
       "    <tr>\n",
       "      <th>Choque</th>\n",
       "      <td>2616</td>\n",
       "    </tr>\n",
       "    <tr>\n",
       "      <th>Incendio</th>\n",
       "      <td>22</td>\n",
       "    </tr>\n",
       "    <tr>\n",
       "      <th>Otro</th>\n",
       "      <td>60</td>\n",
       "    </tr>\n",
       "    <tr>\n",
       "      <th>Volcamiento</th>\n",
       "      <td>50</td>\n",
       "    </tr>\n",
       "    <tr>\n",
       "      <th rowspan=\"5\" valign=\"top\">muerto</th>\n",
       "      <th>Atropello</th>\n",
       "      <td>35</td>\n",
       "    </tr>\n",
       "    <tr>\n",
       "      <th>Caida Ocupante</th>\n",
       "      <td>2</td>\n",
       "    </tr>\n",
       "    <tr>\n",
       "      <th>Choque</th>\n",
       "      <td>59</td>\n",
       "    </tr>\n",
       "    <tr>\n",
       "      <th>Otro</th>\n",
       "      <td>1</td>\n",
       "    </tr>\n",
       "    <tr>\n",
       "      <th>Volcamiento</th>\n",
       "      <td>2</td>\n",
       "    </tr>\n",
       "  </tbody>\n",
       "</table>\n",
       "</div>"
      ],
      "text/plain": [
       "                                    CANTIDAD_VICTIMAS\n",
       "GRAVEDAD_ACCIDENTE CLASE_ACCIDENTE                   \n",
       "herido             Atropello                      617\n",
       "                   Caida Ocupante                  69\n",
       "                   Choque                        2616\n",
       "                   Incendio                        22\n",
       "                   Otro                            60\n",
       "                   Volcamiento                     50\n",
       "muerto             Atropello                       35\n",
       "                   Caida Ocupante                   2\n",
       "                   Choque                          59\n",
       "                   Otro                             1\n",
       "                   Volcamiento                      2"
      ]
     },
     "execution_count": 133,
     "metadata": {},
     "output_type": "execute_result"
    }
   ],
   "source": [
    "victimas_df.groupby(['GRAVEDAD_ACCIDENTE','CLASE_ACCIDENTE']).agg({'CANTIDAD_VICTIMAS':sum})"
   ]
  },
  {
   "cell_type": "markdown",
   "metadata": {},
   "source": [
    "De los datos anteriores tenemos que 2 de cada 100 choques resultan letales. Mientras que 5 de cada 100 atropellos resulta letal. Tambien, 4 de cada 100 volcamientos resulta letal. Lo que esto nos indica es que los accidentes más letales son atropello, volcamiento y choque."
   ]
  },
  {
   "cell_type": "code",
   "execution_count": 146,
   "metadata": {},
   "outputs": [
    {
     "data": {
      "text/html": [
       "<div>\n",
       "<style scoped>\n",
       "    .dataframe tbody tr th:only-of-type {\n",
       "        vertical-align: middle;\n",
       "    }\n",
       "\n",
       "    .dataframe tbody tr th {\n",
       "        vertical-align: top;\n",
       "    }\n",
       "\n",
       "    .dataframe thead th {\n",
       "        text-align: right;\n",
       "    }\n",
       "</style>\n",
       "<table border=\"1\" class=\"dataframe\">\n",
       "  <thead>\n",
       "    <tr style=\"text-align: right;\">\n",
       "      <th></th>\n",
       "      <th>CANTIDAD_VICTIMAS</th>\n",
       "    </tr>\n",
       "    <tr>\n",
       "      <th>AÑO_ACCIDENTE</th>\n",
       "      <th></th>\n",
       "    </tr>\n",
       "  </thead>\n",
       "  <tbody>\n",
       "    <tr>\n",
       "      <th>2016</th>\n",
       "      <td>51</td>\n",
       "    </tr>\n",
       "    <tr>\n",
       "      <th>2017</th>\n",
       "      <td>29</td>\n",
       "    </tr>\n",
       "    <tr>\n",
       "      <th>2018</th>\n",
       "      <td>19</td>\n",
       "    </tr>\n",
       "  </tbody>\n",
       "</table>\n",
       "</div>"
      ],
      "text/plain": [
       "               CANTIDAD_VICTIMAS\n",
       "AÑO_ACCIDENTE                   \n",
       "2016                          51\n",
       "2017                          29\n",
       "2018                          19"
      ]
     },
     "execution_count": 146,
     "metadata": {},
     "output_type": "execute_result"
    }
   ],
   "source": [
    "muertos_df.groupby(['AÑO_ACCIDENTE']).agg({'CANTIDAD_VICTIMAS':sum})"
   ]
  },
  {
   "cell_type": "markdown",
   "metadata": {},
   "source": [
    "La cantidad de muertos cada año ha ido disminuyendo, -43.1% de 2016 a 2017 y -34.49% de 2017 a 2018."
   ]
  },
  {
   "cell_type": "code",
   "execution_count": 149,
   "metadata": {},
   "outputs": [
    {
     "data": {
      "text/html": [
       "<div>\n",
       "<style scoped>\n",
       "    .dataframe tbody tr th:only-of-type {\n",
       "        vertical-align: middle;\n",
       "    }\n",
       "\n",
       "    .dataframe tbody tr th {\n",
       "        vertical-align: top;\n",
       "    }\n",
       "\n",
       "    .dataframe thead th {\n",
       "        text-align: right;\n",
       "    }\n",
       "</style>\n",
       "<table border=\"1\" class=\"dataframe\">\n",
       "  <thead>\n",
       "    <tr style=\"text-align: right;\">\n",
       "      <th></th>\n",
       "      <th>CANTIDAD_VICTIMAS</th>\n",
       "    </tr>\n",
       "    <tr>\n",
       "      <th>AÑO_ACCIDENTE</th>\n",
       "      <th></th>\n",
       "    </tr>\n",
       "  </thead>\n",
       "  <tbody>\n",
       "    <tr>\n",
       "      <th>2016</th>\n",
       "      <td>1010</td>\n",
       "    </tr>\n",
       "    <tr>\n",
       "      <th>2017</th>\n",
       "      <td>1231</td>\n",
       "    </tr>\n",
       "    <tr>\n",
       "      <th>2018</th>\n",
       "      <td>1193</td>\n",
       "    </tr>\n",
       "  </tbody>\n",
       "</table>\n",
       "</div>"
      ],
      "text/plain": [
       "               CANTIDAD_VICTIMAS\n",
       "AÑO_ACCIDENTE                   \n",
       "2016                        1010\n",
       "2017                        1231\n",
       "2018                        1193"
      ]
     },
     "execution_count": 149,
     "metadata": {},
     "output_type": "execute_result"
    }
   ],
   "source": [
    "victimas_df[victimas_df['GRAVEDAD_ACCIDENTE'] == 'herido'].groupby(['AÑO_ACCIDENTE']).agg({'CANTIDAD_VICTIMAS':sum})"
   ]
  },
  {
   "cell_type": "markdown",
   "metadata": {},
   "source": [
    "Sin embargo, el número de heridos no ha presentado disminución, sino valores alrededor de la media de 1145 accidentes por año."
   ]
  }
 ],
 "metadata": {
  "kernelspec": {
   "display_name": "Python 3",
   "language": "python",
   "name": "python3"
  },
  "language_info": {
   "codemirror_mode": {
    "name": "ipython",
    "version": 3
   },
   "file_extension": ".py",
   "mimetype": "text/x-python",
   "name": "python",
   "nbconvert_exporter": "python",
   "pygments_lexer": "ipython3",
   "version": "3.7.1"
  }
 },
 "nbformat": 4,
 "nbformat_minor": 2
}
