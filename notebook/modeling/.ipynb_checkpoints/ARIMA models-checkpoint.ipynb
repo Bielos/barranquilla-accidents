{
 "cells": [
  {
   "cell_type": "markdown",
   "metadata": {},
   "source": [
    "# Modelado usando ARIMA\n",
    "\n",
    "**Objetivo:** Seleccionar y aplicar un modelo predictivo para estimar la frecuencia de los accidentes."
   ]
  },
  {
   "cell_type": "markdown",
   "metadata": {},
   "source": [
    "## ARIMA\n",
    "ARIMA es un modelo económico para predecir series de tiempo, es decir, mediciones capturadas en un punto específico del tiempo y para los cuales exitste algún tipo de autocorrelación donde el valor actual x explica de alguna forma al valor x+1.\n",
    "\n",
    "El nombre ARIMA significa modelo autorregresivo integrado de media móvil (del inglés AutoRegressive Integrated Moving Average) y está compuesto por varios parámetros."
   ]
  },
  {
   "cell_type": "markdown",
   "metadata": {},
   "source": [
    "### AR\n",
    "La autoregresión (AR) modela la siguiente observación (x+1) de una serie de tiempo en términos de una relación lineal de *n* observaciones anteriores. \n",
    "\n",
    "Los modelos AR reciben por parámetro un valor *p* que determina el orden de la relación lineal."
   ]
  },
  {
   "cell_type": "markdown",
   "metadata": {},
   "source": [
    "### MA\n",
    "Las medias móviles (MA) modela la siguiente observación (x+1) de una serie de tiempo en términos de una relación lineal de la media de los errores calculados en un determinado número de observaciones *q*.\n",
    "\n",
    "El modelo de media móvil recibe dicho valor *q* como parametro."
   ]
  },
  {
   "cell_type": "markdown",
   "metadata": {},
   "source": [
    "### I\n",
    "Los modelos ARIMA conbinan ambos modelos, los autoregresivos (AR) y los de media móvil (MA) añadiendo un componente llamado integración (I) que cumple la función de transformar la serie en función de su estacionalidad. \n",
    "\n",
    "Este componente recibe por parámetro un número *d* de observaciones previas a los que transforma."
   ]
  },
  {
   "cell_type": "markdown",
   "metadata": {},
   "source": [
    "## SARIMA\n",
    "Dada la complejidad de la serie de tiempo de los accidentes de la ciudad de Barranquilla, se utiliza tambien una variante del modelo ARIMA que incluye un componente adicional para modelar la estacionalidad en la que se tiene en cuenta el error de valores que se repiten con alguna frecuencia dada para mejorar la precisión de la predicción."
   ]
  },
  {
   "cell_type": "markdown",
   "metadata": {},
   "source": [
    "## Implementación de modelos en Python\n",
    "Para implementar los modelos ARIMA en Python es necesario primero tener los datos correctos, para ello se construye el dataset que expresa la frecuencia diaria de los accidentes de tráfico en Barranquilla desde 2015 hasta 2018."
   ]
  },
  {
   "cell_type": "code",
   "execution_count": 1,
   "metadata": {},
   "outputs": [
    {
     "data": {
      "text/html": [
       "<div>\n",
       "<style scoped>\n",
       "    .dataframe tbody tr th:only-of-type {\n",
       "        vertical-align: middle;\n",
       "    }\n",
       "\n",
       "    .dataframe tbody tr th {\n",
       "        vertical-align: top;\n",
       "    }\n",
       "\n",
       "    .dataframe thead th {\n",
       "        text-align: right;\n",
       "    }\n",
       "</style>\n",
       "<table border=\"1\" class=\"dataframe\">\n",
       "  <thead>\n",
       "    <tr style=\"text-align: right;\">\n",
       "      <th></th>\n",
       "      <th>FECHA_ACCIDENTE</th>\n",
       "      <th>CANTIDAD_ACCIDENTES</th>\n",
       "    </tr>\n",
       "  </thead>\n",
       "  <tbody>\n",
       "    <tr>\n",
       "      <th>0</th>\n",
       "      <td>2015-01-01</td>\n",
       "      <td>10</td>\n",
       "    </tr>\n",
       "    <tr>\n",
       "      <th>1</th>\n",
       "      <td>2015-01-02</td>\n",
       "      <td>13</td>\n",
       "    </tr>\n",
       "    <tr>\n",
       "      <th>2</th>\n",
       "      <td>2015-01-03</td>\n",
       "      <td>11</td>\n",
       "    </tr>\n",
       "    <tr>\n",
       "      <th>3</th>\n",
       "      <td>2015-01-04</td>\n",
       "      <td>7</td>\n",
       "    </tr>\n",
       "    <tr>\n",
       "      <th>4</th>\n",
       "      <td>2015-01-05</td>\n",
       "      <td>14</td>\n",
       "    </tr>\n",
       "  </tbody>\n",
       "</table>\n",
       "</div>"
      ],
      "text/plain": [
       "  FECHA_ACCIDENTE  CANTIDAD_ACCIDENTES\n",
       "0      2015-01-01                   10\n",
       "1      2015-01-02                   13\n",
       "2      2015-01-03                   11\n",
       "3      2015-01-04                    7\n",
       "4      2015-01-05                   14"
      ]
     },
     "execution_count": 1,
     "metadata": {},
     "output_type": "execute_result"
    }
   ],
   "source": [
    "import numpy as np\n",
    "import pandas as pd\n",
    "\n",
    "df = pd.read_csv('../../data/processed/Accidentes_clean.csv')\n",
    "df['FECHA_ACCIDENTE'] = pd.to_datetime(df['FECHA_ACCIDENTE'], format=\"%Y-%m-%d %H:%M:%S\")\n",
    "daily_data = df.set_index('FECHA_ACCIDENTE').groupby(pd.Grouper(freq='d')).agg({'CANTIDAD_ACCIDENTES':sum}).reset_index()\n",
    "daily_data.head()"
   ]
  },
  {
   "cell_type": "markdown",
   "metadata": {},
   "source": [
    "Luego, se divide el dataset de tal forma que se tenga sólo los datos de entrenamiento, para este caso se escogen todos los registros desde 2015 hasta mayo de 2018."
   ]
  },
  {
   "cell_type": "code",
   "execution_count": 2,
   "metadata": {},
   "outputs": [
    {
     "data": {
      "text/html": [
       "<div>\n",
       "<style scoped>\n",
       "    .dataframe tbody tr th:only-of-type {\n",
       "        vertical-align: middle;\n",
       "    }\n",
       "\n",
       "    .dataframe tbody tr th {\n",
       "        vertical-align: top;\n",
       "    }\n",
       "\n",
       "    .dataframe thead th {\n",
       "        text-align: right;\n",
       "    }\n",
       "</style>\n",
       "<table border=\"1\" class=\"dataframe\">\n",
       "  <thead>\n",
       "    <tr style=\"text-align: right;\">\n",
       "      <th></th>\n",
       "      <th>CANTIDAD_ACCIDENTES</th>\n",
       "    </tr>\n",
       "    <tr>\n",
       "      <th>FECHA_ACCIDENTE</th>\n",
       "      <th></th>\n",
       "    </tr>\n",
       "  </thead>\n",
       "  <tbody>\n",
       "    <tr>\n",
       "      <th>2017-12-27</th>\n",
       "      <td>16</td>\n",
       "    </tr>\n",
       "    <tr>\n",
       "      <th>2017-12-28</th>\n",
       "      <td>21</td>\n",
       "    </tr>\n",
       "    <tr>\n",
       "      <th>2017-12-29</th>\n",
       "      <td>9</td>\n",
       "    </tr>\n",
       "    <tr>\n",
       "      <th>2017-12-30</th>\n",
       "      <td>10</td>\n",
       "    </tr>\n",
       "    <tr>\n",
       "      <th>2017-12-31</th>\n",
       "      <td>8</td>\n",
       "    </tr>\n",
       "  </tbody>\n",
       "</table>\n",
       "</div>"
      ],
      "text/plain": [
       "                 CANTIDAD_ACCIDENTES\n",
       "FECHA_ACCIDENTE                     \n",
       "2017-12-27                        16\n",
       "2017-12-28                        21\n",
       "2017-12-29                         9\n",
       "2017-12-30                        10\n",
       "2017-12-31                         8"
      ]
     },
     "execution_count": 2,
     "metadata": {},
     "output_type": "execute_result"
    }
   ],
   "source": [
    "train = daily_data.set_index('FECHA_ACCIDENTE').loc[:'2017-12-31']\n",
    "train.tail()"
   ]
  },
  {
   "cell_type": "markdown",
   "metadata": {},
   "source": [
    "Una vez se tiene el dataset de entrenamiento se procede a crear los modelos utilizando pmdarima, que es el equivalente en Python al popular módulo *AutoARIMA* del lenguaje estadístico R."
   ]
  },
  {
   "cell_type": "code",
   "execution_count": 3,
   "metadata": {},
   "outputs": [
    {
     "name": "stdout",
     "output_type": "stream",
     "text": [
      "Fit ARIMA: order=(1, 1, 1) seasonal_order=(0, 1, 1, 12); AIC=6878.203, BIC=6903.141, Fit time=7.730 seconds\n",
      "Fit ARIMA: order=(0, 1, 0) seasonal_order=(0, 1, 0, 12); AIC=8372.726, BIC=8382.701, Fit time=0.140 seconds\n",
      "Fit ARIMA: order=(1, 1, 0) seasonal_order=(1, 1, 0, 12); AIC=7726.022, BIC=7745.972, Fit time=0.912 seconds\n",
      "Fit ARIMA: order=(0, 1, 1) seasonal_order=(0, 1, 1, 12); AIC=6879.902, BIC=6899.852, Fit time=6.140 seconds\n",
      "Fit ARIMA: order=(1, 1, 1) seasonal_order=(1, 1, 1, 12); AIC=6862.987, BIC=6892.912, Fit time=7.093 seconds\n",
      "Fit ARIMA: order=(1, 1, 1) seasonal_order=(1, 1, 0, 12); AIC=7287.713, BIC=7312.651, Fit time=5.508 seconds\n",
      "Fit ARIMA: order=(1, 1, 1) seasonal_order=(1, 1, 2, 12); AIC=6878.126, BIC=6913.038, Fit time=24.778 seconds\n",
      "Fit ARIMA: order=(1, 1, 1) seasonal_order=(0, 1, 0, 12); AIC=7691.538, BIC=7711.488, Fit time=1.807 seconds\n",
      "Fit ARIMA: order=(1, 1, 1) seasonal_order=(2, 1, 2, 12); AIC=6847.179, BIC=6887.078, Fit time=32.441 seconds\n",
      "Fit ARIMA: order=(0, 1, 1) seasonal_order=(2, 1, 2, 12); AIC=6845.380, BIC=6880.292, Fit time=30.454 seconds\n",
      "Fit ARIMA: order=(0, 1, 0) seasonal_order=(2, 1, 2, 12); AIC=7523.798, BIC=7553.723, Fit time=24.434 seconds\n",
      "Fit ARIMA: order=(0, 1, 2) seasonal_order=(2, 1, 2, 12); AIC=6847.106, BIC=6887.006, Fit time=25.842 seconds\n",
      "Fit ARIMA: order=(1, 1, 2) seasonal_order=(2, 1, 2, 12); AIC=6848.678, BIC=6893.565, Fit time=28.797 seconds\n",
      "Fit ARIMA: order=(0, 1, 1) seasonal_order=(1, 1, 2, 12); AIC=6878.954, BIC=6908.879, Fit time=18.283 seconds\n",
      "Fit ARIMA: order=(0, 1, 1) seasonal_order=(2, 1, 1, 12); AIC=6864.940, BIC=6894.865, Fit time=20.779 seconds\n",
      "Fit ARIMA: order=(0, 1, 1) seasonal_order=(1, 1, 1, 12); AIC=6862.228, BIC=6887.166, Fit time=7.500 seconds\n",
      "Total fit time: 242.681 seconds\n"
     ]
    },
    {
     "data": {
      "text/html": [
       "<table class=\"simpletable\">\n",
       "<caption>Statespace Model Results</caption>\n",
       "<tr>\n",
       "  <th>Dep. Variable:</th>                  <td>y</td>               <th>  No. Observations:  </th>   <td>1096</td>   \n",
       "</tr>\n",
       "<tr>\n",
       "  <th>Model:</th>           <td>SARIMAX(0, 1, 1)x(2, 1, 2, 12)</td> <th>  Log Likelihood     </th> <td>-3415.690</td>\n",
       "</tr>\n",
       "<tr>\n",
       "  <th>Date:</th>                   <td>Mon, 15 Apr 2019</td>        <th>  AIC                </th> <td>6845.380</td> \n",
       "</tr>\n",
       "<tr>\n",
       "  <th>Time:</th>                       <td>18:55:58</td>            <th>  BIC                </th> <td>6880.292</td> \n",
       "</tr>\n",
       "<tr>\n",
       "  <th>Sample:</th>                         <td>0</td>               <th>  HQIC               </th> <td>6858.597</td> \n",
       "</tr>\n",
       "<tr>\n",
       "  <th></th>                             <td> - 1096</td>            <th>                     </th>     <td> </td>    \n",
       "</tr>\n",
       "<tr>\n",
       "  <th>Covariance Type:</th>               <td>opg</td>              <th>                     </th>     <td> </td>    \n",
       "</tr>\n",
       "</table>\n",
       "<table class=\"simpletable\">\n",
       "<tr>\n",
       "      <td></td>         <th>coef</th>     <th>std err</th>      <th>z</th>      <th>P>|z|</th>  <th>[0.025</th>    <th>0.975]</th>  \n",
       "</tr>\n",
       "<tr>\n",
       "  <th>intercept</th> <td>   -0.0005</td> <td>    0.001</td> <td>   -0.812</td> <td> 0.417</td> <td>   -0.002</td> <td>    0.001</td>\n",
       "</tr>\n",
       "<tr>\n",
       "  <th>ma.L1</th>     <td>   -0.9555</td> <td>    0.010</td> <td>  -95.031</td> <td> 0.000</td> <td>   -0.975</td> <td>   -0.936</td>\n",
       "</tr>\n",
       "<tr>\n",
       "  <th>ar.S.L12</th>  <td>   -1.0547</td> <td>    0.051</td> <td>  -20.715</td> <td> 0.000</td> <td>   -1.154</td> <td>   -0.955</td>\n",
       "</tr>\n",
       "<tr>\n",
       "  <th>ar.S.L24</th>  <td>   -0.1918</td> <td>    0.031</td> <td>   -6.169</td> <td> 0.000</td> <td>   -0.253</td> <td>   -0.131</td>\n",
       "</tr>\n",
       "<tr>\n",
       "  <th>ma.S.L12</th>  <td>   -0.0801</td> <td>    0.052</td> <td>   -1.538</td> <td> 0.124</td> <td>   -0.182</td> <td>    0.022</td>\n",
       "</tr>\n",
       "<tr>\n",
       "  <th>ma.S.L24</th>  <td>   -0.9060</td> <td>    0.056</td> <td>  -16.272</td> <td> 0.000</td> <td>   -1.015</td> <td>   -0.797</td>\n",
       "</tr>\n",
       "<tr>\n",
       "  <th>sigma2</th>    <td>   30.4857</td> <td>    1.669</td> <td>   18.266</td> <td> 0.000</td> <td>   27.215</td> <td>   33.757</td>\n",
       "</tr>\n",
       "</table>\n",
       "<table class=\"simpletable\">\n",
       "<tr>\n",
       "  <th>Ljung-Box (Q):</th>          <td>313.97</td> <th>  Jarque-Bera (JB):  </th> <td>6.20</td>\n",
       "</tr>\n",
       "<tr>\n",
       "  <th>Prob(Q):</th>                 <td>0.00</td>  <th>  Prob(JB):          </th> <td>0.04</td>\n",
       "</tr>\n",
       "<tr>\n",
       "  <th>Heteroskedasticity (H):</th>  <td>1.23</td>  <th>  Skew:              </th> <td>0.07</td>\n",
       "</tr>\n",
       "<tr>\n",
       "  <th>Prob(H) (two-sided):</th>     <td>0.05</td>  <th>  Kurtosis:          </th> <td>2.66</td>\n",
       "</tr>\n",
       "</table><br/><br/>Warnings:<br/>[1] Covariance matrix calculated using the outer product of gradients (complex-step)."
      ],
      "text/plain": [
       "<class 'statsmodels.iolib.summary.Summary'>\n",
       "\"\"\"\n",
       "                                 Statespace Model Results                                 \n",
       "==========================================================================================\n",
       "Dep. Variable:                                  y   No. Observations:                 1096\n",
       "Model:             SARIMAX(0, 1, 1)x(2, 1, 2, 12)   Log Likelihood               -3415.690\n",
       "Date:                            Mon, 15 Apr 2019   AIC                           6845.380\n",
       "Time:                                    18:55:58   BIC                           6880.292\n",
       "Sample:                                         0   HQIC                          6858.597\n",
       "                                           - 1096                                         \n",
       "Covariance Type:                              opg                                         \n",
       "==============================================================================\n",
       "                 coef    std err          z      P>|z|      [0.025      0.975]\n",
       "------------------------------------------------------------------------------\n",
       "intercept     -0.0005      0.001     -0.812      0.417      -0.002       0.001\n",
       "ma.L1         -0.9555      0.010    -95.031      0.000      -0.975      -0.936\n",
       "ar.S.L12      -1.0547      0.051    -20.715      0.000      -1.154      -0.955\n",
       "ar.S.L24      -0.1918      0.031     -6.169      0.000      -0.253      -0.131\n",
       "ma.S.L12      -0.0801      0.052     -1.538      0.124      -0.182       0.022\n",
       "ma.S.L24      -0.9060      0.056    -16.272      0.000      -1.015      -0.797\n",
       "sigma2        30.4857      1.669     18.266      0.000      27.215      33.757\n",
       "===================================================================================\n",
       "Ljung-Box (Q):                      313.97   Jarque-Bera (JB):                 6.20\n",
       "Prob(Q):                              0.00   Prob(JB):                         0.04\n",
       "Heteroskedasticity (H):               1.23   Skew:                             0.07\n",
       "Prob(H) (two-sided):                  0.05   Kurtosis:                         2.66\n",
       "===================================================================================\n",
       "\n",
       "Warnings:\n",
       "[1] Covariance matrix calculated using the outer product of gradients (complex-step).\n",
       "\"\"\""
      ]
     },
     "execution_count": 3,
     "metadata": {},
     "output_type": "execute_result"
    }
   ],
   "source": [
    "from pmdarima.arima import auto_arima\n",
    "\n",
    "stepwise_fit = auto_arima(train, start_p=1, start_q=1, max_p=3, max_q=3, m=12,\n",
    "                          start_P=0, seasonal=True, d=1, D=1, trace=True,\n",
    "                          error_action='ignore',  # don't want to know if an order does not work\n",
    "                          suppress_warnings=True,  # don't want convergence warnings\n",
    "                          stepwise=True)  # set to stepwise\n",
    "\n",
    "stepwise_fit.summary()"
   ]
  },
  {
   "cell_type": "markdown",
   "metadata": {},
   "source": [
    "Finalmente, se guarda el modelo entrenado en la carpeta model."
   ]
  },
  {
   "cell_type": "code",
   "execution_count": 6,
   "metadata": {},
   "outputs": [],
   "source": [
    "import pickle\n",
    "filename = '../../model/test models/SARIMA_model.sav'\n",
    "pickle.dump(stepwise_fit, open(filename, 'wb'))"
   ]
  }
 ],
 "metadata": {
  "kernelspec": {
   "display_name": "Python 3",
   "language": "python",
   "name": "python3"
  },
  "language_info": {
   "codemirror_mode": {
    "name": "ipython",
    "version": 3
   },
   "file_extension": ".py",
   "mimetype": "text/x-python",
   "name": "python",
   "nbconvert_exporter": "python",
   "pygments_lexer": "ipython3",
   "version": "3.6.7"
  }
 },
 "nbformat": 4,
 "nbformat_minor": 2
}
