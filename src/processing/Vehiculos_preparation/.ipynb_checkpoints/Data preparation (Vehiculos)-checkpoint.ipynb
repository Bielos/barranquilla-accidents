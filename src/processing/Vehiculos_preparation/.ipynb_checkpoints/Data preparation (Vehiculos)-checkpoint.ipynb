{
 "cells": [
  {
   "cell_type": "markdown",
   "metadata": {},
   "source": [
    "## Preparación de Datos (Vehiculos)\n",
    "El dataset *Vehiculos.csv* contiene información detallada de los vehiculos involucrados en los accidentes de la ciudad de Barranquilla en el periodo de 2015 al 2018. La limpieza de los datos se compone de buscar posibles datos faltantes y completarlos o eliminarlos según corresponda."
   ]
  },
  {
   "cell_type": "markdown",
   "metadata": {},
   "source": [
    "### Importing the dataset"
   ]
  },
  {
   "cell_type": "code",
   "execution_count": 1,
   "metadata": {},
   "outputs": [
    {
     "data": {
      "text/html": [
       "<div>\n",
       "<style scoped>\n",
       "    .dataframe tbody tr th:only-of-type {\n",
       "        vertical-align: middle;\n",
       "    }\n",
       "\n",
       "    .dataframe tbody tr th {\n",
       "        vertical-align: top;\n",
       "    }\n",
       "\n",
       "    .dataframe thead th {\n",
       "        text-align: right;\n",
       "    }\n",
       "</style>\n",
       "<table border=\"1\" class=\"dataframe\">\n",
       "  <thead>\n",
       "    <tr style=\"text-align: right;\">\n",
       "      <th></th>\n",
       "      <th>AÑO_ACCIDENTE</th>\n",
       "      <th>MES_ACCIDENTE</th>\n",
       "      <th>CLASE ACCIDENTE</th>\n",
       "      <th>SERVICIO_VEHICULO_ACCIDENTADO</th>\n",
       "      <th>CLASE_VEHICULO_ACCIDENTADO</th>\n",
       "      <th>CANTIDAD_VEHICULOS</th>\n",
       "    </tr>\n",
       "  </thead>\n",
       "  <tbody>\n",
       "    <tr>\n",
       "      <th>0</th>\n",
       "      <td>2015</td>\n",
       "      <td>1</td>\n",
       "      <td>Atropello</td>\n",
       "      <td>PARTICULAR</td>\n",
       "      <td>AUTOMOVIL</td>\n",
       "      <td>3</td>\n",
       "    </tr>\n",
       "    <tr>\n",
       "      <th>1</th>\n",
       "      <td>2015</td>\n",
       "      <td>1</td>\n",
       "      <td>Atropello</td>\n",
       "      <td>PARTICULAR</td>\n",
       "      <td>MOTOCICLETA</td>\n",
       "      <td>5</td>\n",
       "    </tr>\n",
       "    <tr>\n",
       "      <th>2</th>\n",
       "      <td>2015</td>\n",
       "      <td>1</td>\n",
       "      <td>Atropello</td>\n",
       "      <td>PUBLICO</td>\n",
       "      <td>AUTOMOVIL</td>\n",
       "      <td>2</td>\n",
       "    </tr>\n",
       "    <tr>\n",
       "      <th>3</th>\n",
       "      <td>2015</td>\n",
       "      <td>1</td>\n",
       "      <td>Atropello</td>\n",
       "      <td>PUBLICO</td>\n",
       "      <td>BUS</td>\n",
       "      <td>1</td>\n",
       "    </tr>\n",
       "    <tr>\n",
       "      <th>4</th>\n",
       "      <td>2015</td>\n",
       "      <td>1</td>\n",
       "      <td>Atropello</td>\n",
       "      <td>PUBLICO</td>\n",
       "      <td>BUSETA</td>\n",
       "      <td>1</td>\n",
       "    </tr>\n",
       "    <tr>\n",
       "      <th>5</th>\n",
       "      <td>2015</td>\n",
       "      <td>1</td>\n",
       "      <td>Caida Ocupante</td>\n",
       "      <td>PUBLICO</td>\n",
       "      <td>BUS</td>\n",
       "      <td>1</td>\n",
       "    </tr>\n",
       "    <tr>\n",
       "      <th>6</th>\n",
       "      <td>2015</td>\n",
       "      <td>1</td>\n",
       "      <td>Caida Ocupante</td>\n",
       "      <td>PUBLICO</td>\n",
       "      <td>MICROBUS</td>\n",
       "      <td>1</td>\n",
       "    </tr>\n",
       "    <tr>\n",
       "      <th>7</th>\n",
       "      <td>2015</td>\n",
       "      <td>1</td>\n",
       "      <td>Choque</td>\n",
       "      <td>DIPLOMATICO</td>\n",
       "      <td>BICICLETA</td>\n",
       "      <td>5</td>\n",
       "    </tr>\n",
       "    <tr>\n",
       "      <th>8</th>\n",
       "      <td>2015</td>\n",
       "      <td>1</td>\n",
       "      <td>Choque</td>\n",
       "      <td>DIPLOMATICO</td>\n",
       "      <td>MOTOCICLETA</td>\n",
       "      <td>1</td>\n",
       "    </tr>\n",
       "    <tr>\n",
       "      <th>9</th>\n",
       "      <td>2015</td>\n",
       "      <td>1</td>\n",
       "      <td>Choque</td>\n",
       "      <td>OFICIAL</td>\n",
       "      <td>CAMPERO</td>\n",
       "      <td>1</td>\n",
       "    </tr>\n",
       "  </tbody>\n",
       "</table>\n",
       "</div>"
      ],
      "text/plain": [
       "   AÑO_ACCIDENTE  MES_ACCIDENTE CLASE ACCIDENTE SERVICIO_VEHICULO_ACCIDENTADO  \\\n",
       "0           2015              1       Atropello                    PARTICULAR   \n",
       "1           2015              1       Atropello                    PARTICULAR   \n",
       "2           2015              1       Atropello                       PUBLICO   \n",
       "3           2015              1       Atropello                       PUBLICO   \n",
       "4           2015              1       Atropello                       PUBLICO   \n",
       "5           2015              1  Caida Ocupante                       PUBLICO   \n",
       "6           2015              1  Caida Ocupante                       PUBLICO   \n",
       "7           2015              1          Choque                   DIPLOMATICO   \n",
       "8           2015              1          Choque                   DIPLOMATICO   \n",
       "9           2015              1          Choque                       OFICIAL   \n",
       "\n",
       "  CLASE_VEHICULO_ACCIDENTADO  CANTIDAD_VEHICULOS  \n",
       "0                  AUTOMOVIL                   3  \n",
       "1                MOTOCICLETA                   5  \n",
       "2                  AUTOMOVIL                   2  \n",
       "3                        BUS                   1  \n",
       "4                     BUSETA                   1  \n",
       "5                        BUS                   1  \n",
       "6                   MICROBUS                   1  \n",
       "7                  BICICLETA                   5  \n",
       "8                MOTOCICLETA                   1  \n",
       "9                    CAMPERO                   1  "
      ]
     },
     "execution_count": 1,
     "metadata": {},
     "output_type": "execute_result"
    }
   ],
   "source": [
    "import sys\n",
    "sys.path.append('../../../resources')\n",
    "import numpy as np\n",
    "import pandas as pd\n",
    "\n",
    "df = pd.read_csv('../../../data/raw/Vehiculos.csv')\n",
    "df.head(10)"
   ]
  },
  {
   "cell_type": "markdown",
   "metadata": {},
   "source": [
    "### Evaluando la integridad de los datos\n",
    "Para visualizar y encontrar mejor los datos faltantes se utiliza el framework para análisis exploratorio de datos disponible en [GitHub](https://github.com/Bielos/EDA-Framework)."
   ]
  },
  {
   "cell_type": "code",
   "execution_count": 2,
   "metadata": {},
   "outputs": [
    {
     "data": {
      "text/html": [
       "<div>\n",
       "<style scoped>\n",
       "    .dataframe tbody tr th:only-of-type {\n",
       "        vertical-align: middle;\n",
       "    }\n",
       "\n",
       "    .dataframe tbody tr th {\n",
       "        vertical-align: top;\n",
       "    }\n",
       "\n",
       "    .dataframe thead th {\n",
       "        text-align: right;\n",
       "    }\n",
       "</style>\n",
       "<table border=\"1\" class=\"dataframe\">\n",
       "  <thead>\n",
       "    <tr style=\"text-align: right;\">\n",
       "      <th></th>\n",
       "      <th>TOTAL</th>\n",
       "      <th>PERCENTAGE</th>\n",
       "    </tr>\n",
       "  </thead>\n",
       "  <tbody>\n",
       "    <tr>\n",
       "      <th>AÑO_ACCIDENTE</th>\n",
       "      <td>0</td>\n",
       "      <td>0.000000</td>\n",
       "    </tr>\n",
       "    <tr>\n",
       "      <th>CANTIDAD_VEHICULOS</th>\n",
       "      <td>0</td>\n",
       "      <td>0.000000</td>\n",
       "    </tr>\n",
       "    <tr>\n",
       "      <th>CLASE ACCIDENTE</th>\n",
       "      <td>0</td>\n",
       "      <td>0.000000</td>\n",
       "    </tr>\n",
       "    <tr>\n",
       "      <th>CLASE_VEHICULO_ACCIDENTADO</th>\n",
       "      <td>20</td>\n",
       "      <td>0.011198</td>\n",
       "    </tr>\n",
       "    <tr>\n",
       "      <th>MES_ACCIDENTE</th>\n",
       "      <td>0</td>\n",
       "      <td>0.000000</td>\n",
       "    </tr>\n",
       "    <tr>\n",
       "      <th>SERVICIO_VEHICULO_ACCIDENTADO</th>\n",
       "      <td>193</td>\n",
       "      <td>0.108063</td>\n",
       "    </tr>\n",
       "  </tbody>\n",
       "</table>\n",
       "</div>"
      ],
      "text/plain": [
       "                               TOTAL  PERCENTAGE\n",
       "AÑO_ACCIDENTE                      0    0.000000\n",
       "CANTIDAD_VEHICULOS                 0    0.000000\n",
       "CLASE ACCIDENTE                    0    0.000000\n",
       "CLASE_VEHICULO_ACCIDENTADO        20    0.011198\n",
       "MES_ACCIDENTE                      0    0.000000\n",
       "SERVICIO_VEHICULO_ACCIDENTADO    193    0.108063"
      ]
     },
     "execution_count": 2,
     "metadata": {},
     "output_type": "execute_result"
    }
   ],
   "source": [
    "import EDA_framework as EDA\n",
    "EDA.get_missing_data_table(df)"
   ]
  },
  {
   "cell_type": "markdown",
   "metadata": {},
   "source": [
    "La tabla anterior nos muestra que hay 20 registros donde hay valores faltantes en la columna *CLASE_VEHICULO_ACCIDENTADO*. Para entender mejor cómo completar estos 20 registros se visualizan los valores que hay en todo el dataset para esta variable."
   ]
  },
  {
   "cell_type": "code",
   "execution_count": 3,
   "metadata": {},
   "outputs": [
    {
     "data": {
      "text/plain": [
       "array(['AUTOMOVIL', 'MOTOCICLETA', 'BUS', 'BUSETA', 'MICROBUS',\n",
       "       'BICICLETA', 'CAMPERO', 'CAMION', 'CAMIONETA', 'MOTOCARRO',\n",
       "       'TRACCION ANIMAL', 'VOLQUETA', 'TRACTO/CAMION', 'DESCONOCIDA', nan,\n",
       "       'MAQUINARIA INDUSTRIAL', 'REMOLQUE', 'CUATRIMOTO',\n",
       "       'RETROEXCAVADORA', 'MAQUINARIA AGRICOLA', 'MOTOTRICICLO',\n",
       "       'BUS ARTICULADO', 'CICLO TAXI', 'CAMION (RNMA)',\n",
       "       'DUMPER VOLQUETAARTICULADA', 'CARRETILLA ELEVADORA',\n",
       "       'SEMIREMOLQUE', 'MONTACARGAS'], dtype=object)"
      ]
     },
     "execution_count": 3,
     "metadata": {},
     "output_type": "execute_result"
    }
   ],
   "source": [
    "df['CLASE_VEHICULO_ACCIDENTADO'].unique()"
   ]
  },
  {
   "cell_type": "markdown",
   "metadata": {},
   "source": [
    "Dado que ya existe una categoría para cuando no se conoce esta variable (llamada *DESCONOCIDA*) los valores faltantes se remplazarán con este valor."
   ]
  },
  {
   "cell_type": "code",
   "execution_count": 4,
   "metadata": {},
   "outputs": [
    {
     "data": {
      "text/html": [
       "<div>\n",
       "<style scoped>\n",
       "    .dataframe tbody tr th:only-of-type {\n",
       "        vertical-align: middle;\n",
       "    }\n",
       "\n",
       "    .dataframe tbody tr th {\n",
       "        vertical-align: top;\n",
       "    }\n",
       "\n",
       "    .dataframe thead th {\n",
       "        text-align: right;\n",
       "    }\n",
       "</style>\n",
       "<table border=\"1\" class=\"dataframe\">\n",
       "  <thead>\n",
       "    <tr style=\"text-align: right;\">\n",
       "      <th></th>\n",
       "      <th>TOTAL</th>\n",
       "      <th>PERCENTAGE</th>\n",
       "    </tr>\n",
       "  </thead>\n",
       "  <tbody>\n",
       "    <tr>\n",
       "      <th>AÑO_ACCIDENTE</th>\n",
       "      <td>0</td>\n",
       "      <td>0.000000</td>\n",
       "    </tr>\n",
       "    <tr>\n",
       "      <th>CANTIDAD_VEHICULOS</th>\n",
       "      <td>0</td>\n",
       "      <td>0.000000</td>\n",
       "    </tr>\n",
       "    <tr>\n",
       "      <th>CLASE ACCIDENTE</th>\n",
       "      <td>0</td>\n",
       "      <td>0.000000</td>\n",
       "    </tr>\n",
       "    <tr>\n",
       "      <th>CLASE_VEHICULO_ACCIDENTADO</th>\n",
       "      <td>0</td>\n",
       "      <td>0.000000</td>\n",
       "    </tr>\n",
       "    <tr>\n",
       "      <th>MES_ACCIDENTE</th>\n",
       "      <td>0</td>\n",
       "      <td>0.000000</td>\n",
       "    </tr>\n",
       "    <tr>\n",
       "      <th>SERVICIO_VEHICULO_ACCIDENTADO</th>\n",
       "      <td>193</td>\n",
       "      <td>0.108063</td>\n",
       "    </tr>\n",
       "  </tbody>\n",
       "</table>\n",
       "</div>"
      ],
      "text/plain": [
       "                               TOTAL  PERCENTAGE\n",
       "AÑO_ACCIDENTE                      0    0.000000\n",
       "CANTIDAD_VEHICULOS                 0    0.000000\n",
       "CLASE ACCIDENTE                    0    0.000000\n",
       "CLASE_VEHICULO_ACCIDENTADO         0    0.000000\n",
       "MES_ACCIDENTE                      0    0.000000\n",
       "SERVICIO_VEHICULO_ACCIDENTADO    193    0.108063"
      ]
     },
     "execution_count": 4,
     "metadata": {},
     "output_type": "execute_result"
    }
   ],
   "source": [
    "df = EDA.imput_nan_values(df, 'CLASE_VEHICULO_ACCIDENTADO', strateg='constant', fill_value='DESCONOCIDA')\n",
    "EDA.get_missing_data_table(df)"
   ]
  },
  {
   "cell_type": "markdown",
   "metadata": {},
   "source": [
    "Igualmente, se visualizan los valores de la variable *SERVICIO_VEHICULO_ACCIDENTADO* en busca de una forma de completar los valores faltantes."
   ]
  },
  {
   "cell_type": "code",
   "execution_count": 5,
   "metadata": {},
   "outputs": [
    {
     "data": {
      "text/plain": [
       "array(['PARTICULAR', 'PUBLICO', 'DIPLOMATICO', 'OFICIAL', nan,\n",
       "       'No Aplica', 'ESPECIAL'], dtype=object)"
      ]
     },
     "execution_count": 5,
     "metadata": {},
     "output_type": "execute_result"
    }
   ],
   "source": [
    "df['SERVICIO_VEHICULO_ACCIDENTADO'].unique()"
   ]
  },
  {
   "cell_type": "markdown",
   "metadata": {},
   "source": [
    "Como puede observarse, no existe una categoria pre-definida para cuando esta variable se desconoce. Por lo tanto (y debido a que la cantidad de datos faltante ocupa un 10% de los datos) se procede a completar los registros faltantes con el valor *DESCONOCIDO*."
   ]
  },
  {
   "cell_type": "code",
   "execution_count": 6,
   "metadata": {},
   "outputs": [
    {
     "data": {
      "text/html": [
       "<div>\n",
       "<style scoped>\n",
       "    .dataframe tbody tr th:only-of-type {\n",
       "        vertical-align: middle;\n",
       "    }\n",
       "\n",
       "    .dataframe tbody tr th {\n",
       "        vertical-align: top;\n",
       "    }\n",
       "\n",
       "    .dataframe thead th {\n",
       "        text-align: right;\n",
       "    }\n",
       "</style>\n",
       "<table border=\"1\" class=\"dataframe\">\n",
       "  <thead>\n",
       "    <tr style=\"text-align: right;\">\n",
       "      <th></th>\n",
       "      <th>TOTAL</th>\n",
       "      <th>PERCENTAGE</th>\n",
       "    </tr>\n",
       "  </thead>\n",
       "  <tbody>\n",
       "    <tr>\n",
       "      <th>AÑO_ACCIDENTE</th>\n",
       "      <td>0</td>\n",
       "      <td>0.0</td>\n",
       "    </tr>\n",
       "    <tr>\n",
       "      <th>CANTIDAD_VEHICULOS</th>\n",
       "      <td>0</td>\n",
       "      <td>0.0</td>\n",
       "    </tr>\n",
       "    <tr>\n",
       "      <th>CLASE ACCIDENTE</th>\n",
       "      <td>0</td>\n",
       "      <td>0.0</td>\n",
       "    </tr>\n",
       "    <tr>\n",
       "      <th>CLASE_VEHICULO_ACCIDENTADO</th>\n",
       "      <td>0</td>\n",
       "      <td>0.0</td>\n",
       "    </tr>\n",
       "    <tr>\n",
       "      <th>MES_ACCIDENTE</th>\n",
       "      <td>0</td>\n",
       "      <td>0.0</td>\n",
       "    </tr>\n",
       "    <tr>\n",
       "      <th>SERVICIO_VEHICULO_ACCIDENTADO</th>\n",
       "      <td>0</td>\n",
       "      <td>0.0</td>\n",
       "    </tr>\n",
       "  </tbody>\n",
       "</table>\n",
       "</div>"
      ],
      "text/plain": [
       "                               TOTAL  PERCENTAGE\n",
       "AÑO_ACCIDENTE                      0         0.0\n",
       "CANTIDAD_VEHICULOS                 0         0.0\n",
       "CLASE ACCIDENTE                    0         0.0\n",
       "CLASE_VEHICULO_ACCIDENTADO         0         0.0\n",
       "MES_ACCIDENTE                      0         0.0\n",
       "SERVICIO_VEHICULO_ACCIDENTADO      0         0.0"
      ]
     },
     "execution_count": 6,
     "metadata": {},
     "output_type": "execute_result"
    }
   ],
   "source": [
    "df = EDA.imput_nan_values(df, 'SERVICIO_VEHICULO_ACCIDENTADO', strateg='constant', fill_value='DESCONOCIDO')\n",
    "EDA.get_missing_data_table(df)"
   ]
  },
  {
   "cell_type": "markdown",
   "metadata": {},
   "source": [
    "### Versión final del dataset\n",
    "Finalmente, la columna *CLASE ACCIDENTE* divide sus dos palabras con un espacio y no con un guión bajo (_) como en el resto del dataset. Se procede entonces a renombrar la columna y exportar el dataset en formato CSV."
   ]
  },
  {
   "cell_type": "code",
   "execution_count": 9,
   "metadata": {},
   "outputs": [],
   "source": [
    "df = df.rename(columns={'CLASE ACCIDENTE':'CLASE_ACCIDENTE'})\n",
    "df.to_csv('../../../data/processed/Vehiculos_clean.csv', index=False)"
   ]
  }
 ],
 "metadata": {
  "kernelspec": {
   "display_name": "Python 3",
   "language": "python",
   "name": "python3"
  },
  "language_info": {
   "codemirror_mode": {
    "name": "ipython",
    "version": 3
   },
   "file_extension": ".py",
   "mimetype": "text/x-python",
   "name": "python",
   "nbconvert_exporter": "python",
   "pygments_lexer": "ipython3",
   "version": "3.6.7"
  }
 },
 "nbformat": 4,
 "nbformat_minor": 2
}
